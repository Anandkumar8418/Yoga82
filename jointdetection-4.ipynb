{
 "cells": [
  {
   "cell_type": "code",
   "execution_count": null,
   "metadata": {
    "colab": {
     "base_uri": "https://localhost:8080/"
    },
    "id": "OuPbdVKqIesQ",
    "outputId": "4b7ac18e-7949-4ba8-9428-e159c2626ec9"
   },
   "outputs": [],
   "source": [
    "pip install mediapipe==0.10.9 #apna terminal se pip install mediapipe kr ke isko comment kr dena"
   ]
  },
  {
   "cell_type": "code",
   "execution_count": 1,
   "metadata": {
    "colab": {
     "base_uri": "https://localhost:8080/"
    },
    "id": "gb79SqJ5Igmk",
    "outputId": "f326f8b2-3929-4e74-8bf0-689079aba307"
   },
   "outputs": [],
   "source": [
    "# from google.colab import drive # commment out kr dena\n",
    "# drive.mount('/content/drive') # commment out kr dena"
   ]
  },
  {
   "cell_type": "markdown",
   "metadata": {
    "id": "W1rjGtR6Xqrc"
   },
   "source": [
    "Gagan - Train Data/Dataset20\n",
    "\n",
    "---\n",
    "\n",
    "\n",
    "Abhinav - Test Data/Dataset20\n",
    "\n",
    "---\n",
    "\n",
    "\n",
    "Manan - Test Data/Dataset6\n",
    "\n",
    "---\n",
    "\n",
    " file_path - Train data folder me jo naam ka csv bana na h tmlog me ye Archive/Yoga82 Project/Train Data/Dataset6.csv\n",
    " agar Dataset20 ke liye h to Dataset20.csv krna jaisa hoga dekh lena ni to vs code se copy relative path use kr ke paste krdena same folder me rhega dataset to\n",
    "\n",
    " folder_path - wo jo allot kiye hai sb apna apna krna\n",
    " model_path - aage aygea usme model bhejege donwlaod kr ke same folder me dalke copy relative path vs code se\n",
    "\n",
    "\n",
    " BAKI KUCH CHANGE MAT KRNA!!\n",
    " CSV file ban ne lgega bs dekha 3-4 ghnta lg skta hai laptop band mt hone dena setting kr ke ni to starting se start krna hoga\n",
    " CSV file me unwanted coloum ara hai kuch to manually remove krna hoga csv file khol ke baad ka kaam hai jab code pura run complete ho jye"
   ]
  },
  {
   "cell_type": "code",
   "execution_count": 45,
   "metadata": {
    "id": "WxzZ4AsvfG5_"
   },
   "outputs": [],
   "source": [
    "\n",
    "file_path = 'Train Data/Dataset82/train82i2.csv'\n",
    " #Train folder me jo dataset allot kiye the"
   ]
  },
  {
   "cell_type": "code",
   "execution_count": 46,
   "metadata": {},
   "outputs": [
    {
     "name": "stdout",
     "output_type": "stream",
     "text": [
      "0.10.9\n",
      "1.3.4\n"
     ]
    }
   ],
   "source": [
    "import numpy as np\n",
    "import pandas as pd\n",
    "import os\n",
    "import mediapipe as mp\n",
    "from mediapipe.tasks import python\n",
    "from mediapipe.tasks.python import vision\n",
    "print(mp.__version__)\n",
    "\n",
    "print(pd.__version__)"
   ]
  },
  {
   "cell_type": "code",
   "execution_count": 47,
   "metadata": {
    "id": "PviHNpczYK2m"
   },
   "outputs": [],
   "source": [
    "# # is cell ko eak bar run krna hai empty csv file banane ke liye ya exisiting csv to replace kr ke naya empty file_path pe\n",
    "df2 = pd.DataFrame()\n",
    "df2.to_csv(file_path)"
   ]
  },
  {
   "cell_type": "code",
   "execution_count": 48,
   "metadata": {
    "id": "WWw34XwETISW"
   },
   "outputs": [],
   "source": [
    "import mediapipe as mp\n",
    "from mediapipe.tasks import python\n",
    "from mediapipe.tasks.python import vision"
   ]
  },
  {
   "cell_type": "code",
   "execution_count": 49,
   "metadata": {
    "id": "7CIdvbwST3Cn"
   },
   "outputs": [],
   "source": [
    "model_path = \"pose_landmarker_heavy.task\" #jis path pe mediapipe model downloaded h\n"
   ]
  },
  {
   "cell_type": "markdown",
   "metadata": {
    "id": "PVhn1fBDXbbH"
   },
   "source": [
    "Phir nihce wala run krdo aur band mt hone dena beech me ni to shuru se start ho jygea.\n",
    "Shyad 3-4 ghnta lgega jada b lag skta h."
   ]
  },
  {
   "cell_type": "code",
   "execution_count": 50,
   "metadata": {
    "id": "yU4sBnmWNaug"
   },
   "outputs": [],
   "source": [
    "def angle(xc,yc,zc,dr1):\n",
    "  try:\n",
    "    coords = (dr1.pose_landmarks)[0]\n",
    "  except Exception as e:\n",
    "    return None\n",
    "  pos1 = np.array([coords[xc].x,coords[xc].y,coords[xc].z])\n",
    "  pos2 = np.array([coords[yc].x,coords[yc].y,coords[yc].z])\n",
    "  pos3 = np.array([coords[zc].x,coords[zc].y,coords[zc].z])\n",
    "\n",
    "  vec1 = pos1-pos2\n",
    "  vec2 = pos3-pos2\n",
    "  anglemin = np.degrees(np.arccos(np.dot(vec1, vec2)/(np.linalg.norm(vec2) * np.linalg.norm(vec1))))\n",
    "  return anglemin\n",
    "\n",
    "def spacecoords(xc,dr1):\n",
    "  try:\n",
    "    coords = (dr1.pose_landmarks)[0]\n",
    "  except Exception as e:\n",
    "    return [None,None,None]\n",
    "  lst = [coords[xc].x,coords[xc].y,coords[xc].z]\n",
    "  return lst\n",
    "\n",
    "\n",
    "def centroid(xc,yc,zc,dr1):\n",
    "  try:\n",
    "    coords = (dr1.pose_landmarks)[0]\n",
    "  except Exception as e:\n",
    "    return [None,None,None]\n",
    "  pos1 = np.array([coords[xc].x,coords[xc].y,coords[xc].z])\n",
    "  pos2 = np.array([coords[yc].x,coords[yc].y,coords[yc].z])\n",
    "  pos3 = np.array([coords[zc].x,coords[zc].y,coords[zc].z])\n",
    "  x1 = (pos1[0]+ pos2[0] + pos3[0])/3\n",
    "  x2 = (pos1[1]+ pos2[1] + pos3[1])/3\n",
    "  x3 = (pos1[2]+ pos2[2] + pos3[2])/3\n",
    "  return [x1,x2,x3];\n"
   ]
  },
  {
   "cell_type": "code",
   "execution_count": 51,
   "metadata": {
    "colab": {
     "base_uri": "https://localhost:8080/",
     "height": 1000
    },
    "id": "5YrmuSGhT9rW",
    "outputId": "0553a00b-1c9d-4dc3-fb6f-bc1bebfcc46a"
   },
   "outputs": [
    {
     "name": "stdout",
     "output_type": "stream",
     "text": [
      " done extracting\n"
     ]
    }
   ],
   "source": [
    "base_options = python.BaseOptions(model_asset_path=model_path)\n",
    "options = vision.PoseLandmarkerOptions(\n",
    "    base_options=base_options,\n",
    "    output_segmentation_masks=True)\n",
    "detector = vision.PoseLandmarker.create_from_options(options)\n",
    "\n",
    "for i in range(5,10):\n",
    "  folder_path =  f\"Test Data/Dataset82/{i}\"\n",
    "  for filename2 in os.listdir(folder_path):\n",
    "    img_path = os.path.join(folder_path, filename2)\n",
    "    # print(img_path)\n",
    "    try:\n",
    "      image = mp.Image.create_from_file(img_path)\n",
    "    except:\n",
    "      pass\n",
    "    dr = detector.detect(image)\n",
    "    # print(dr.PoseLandmark.LEFT_SHOULDER.value)\n",
    "    # print(dr.pose_landmarks)\n",
    "    rightelbow = angle(12,14,16,dr)\n",
    "    leftelbow = angle(11,13,15,dr)\n",
    "    rightknee = angle(24,26,28,dr)\n",
    "    leftknee = angle(23,25,27,dr)\n",
    "    righthip = angle(12,24,26,dr)\n",
    "    lefthip = angle(11,23,25,dr)\n",
    "    centroid1 = centroid(12,14,16,dr)\n",
    "    centroid2 = centroid(11,13,15,dr)\n",
    "    centroid3 = centroid(24,26,28,dr)\n",
    "    centroid4 = centroid(23,25,27,dr)\n",
    "    centroid5 = centroid(12,24,26,dr)\n",
    "    centroid6 = centroid(11,23,25,dr)\n",
    "    # print(rightelbow,leftelbow,rightknee,leftknee,righthip,lefthip)\n",
    "    # print(centroid1,centroid2,centroid3,centroid4,centroid5,centroid6)\n",
    "    df = pd.read_csv(file_path,low_memory=False)\n",
    "    # print(type(df))\n",
    "    # print(df)\n",
    "    new_row = {'ImgPath': img_path,\n",
    "              'rightelbow': rightelbow ,\"leftelbow\": leftelbow,\n",
    "              \"rightknee\":rightknee,\"leftknee\":leftknee,\n",
    "              \"righthip\":righthip,\"lefthip\":lefthip,\n",
    "              \"centroid1x\" : centroid1[0],\"centroid1y\" : centroid1[1],\"centroid1z\" : centroid1[2],\n",
    "              \"centroid2x\" : centroid2[0],\"centroid2y\" : centroid2[1],\"centroid2z\" : centroid2[2],\n",
    "              \"centroid3x\" : centroid3[0],\"centroid3y\" : centroid3[1],\"centroid3z\" : centroid3[2],\n",
    "              \"centroid4x\" : centroid4[0],\"centroid4y\" : centroid4[1],\"centroid4z\" : centroid4[2],\n",
    "              \"centroid5x\" : centroid5[0],\"centroid5y\" : centroid5[1],\"centroid5z\" : centroid5[2],\n",
    "              \"centroid6x\" : centroid6[0],\"centroid6y\" : centroid6[1],\"centroid6z\" : centroid6[2],\n",
    "              \"cx0\" : spacecoords(0,dr)[0],\"cy0\" : spacecoords(0,dr)[1],\"cz0\" : spacecoords(0,dr)[2],\n",
    "              \"cx11\" : spacecoords(11,dr)[0],\"cy11\" : spacecoords(11,dr)[1],\"cz11\" : spacecoords(11,dr)[2],\n",
    "              \"cx13\" : spacecoords(13,dr)[0],\"cy13\" : spacecoords(13,dr)[1],\"cz13\" : spacecoords(13,dr)[2],\n",
    "              \"cx15\" : spacecoords(15,dr)[0],\"cy15\" : spacecoords(15,dr)[1],\"cz15\" : spacecoords(15,dr)[2],\n",
    "              \"cx12\" : spacecoords(12,dr)[0],\"cy12\" : spacecoords(12,dr)[1],\"cz12\" : spacecoords(12,dr)[2],\n",
    "              \"cx14\" : spacecoords(14,dr)[0],\"cy14\" : spacecoords(14,dr)[1],\"cz14\" : spacecoords(14,dr)[2],\n",
    "              \"cx16\" : spacecoords(16,dr)[0],\"cy16\" : spacecoords(16,dr)[1],\"cz16\" : spacecoords(16,dr)[2],\n",
    "              \"cx24\" : spacecoords(24,dr)[0],\"cy24\" : spacecoords(24,dr)[1],\"cz24\" : spacecoords(24,dr)[2],\n",
    "              \"cx26\" : spacecoords(26,dr)[0],\"cy26\" : spacecoords(26,dr)[1],\"cz26\" : spacecoords(26,dr)[2],\n",
    "              \"cx28\" : spacecoords(28,dr)[0],\"cy28\" : spacecoords(28,dr)[1],\"cz28\" : spacecoords(28,dr)[2],\n",
    "              \"cx23\" : spacecoords(23,dr)[0],\"cy23\" : spacecoords(23,dr)[1],\"cz23\" : spacecoords(23,dr)[2],\n",
    "              \"cx25\" : spacecoords(25,dr)[0],\"cy25\" : spacecoords(25,dr)[1],\"cz25\" : spacecoords(25,dr)[2],\n",
    "              \"cx27\" : spacecoords(27,dr)[0],\"cy27\" : spacecoords(27,dr)[1],\"cz11\" : spacecoords(27,dr)[2],\n",
    "              'label' : img_path.split(\"/\")[-2]}\n",
    "    df = df.append(new_row, ignore_index=True)\n",
    "    df.to_csv(file_path)\n",
    "print(\" done extracting\")"
   ]
  },
  {
   "cell_type": "code",
   "execution_count": 52,
   "metadata": {},
   "outputs": [
    {
     "name": "stdout",
     "output_type": "stream",
     "text": [
      "Python version: 3.9.18 (main, Sep 11 2023, 13:30:38) [MSC v.1916 64 bit (AMD64)]\n"
     ]
    }
   ],
   "source": [
    "import sys\n",
    "\n",
    "print(\"Python version:\", sys.version)"
   ]
  },
  {
   "cell_type": "code",
   "execution_count": null,
   "metadata": {},
   "outputs": [],
   "source": []
  },
  {
   "cell_type": "code",
   "execution_count": null,
   "metadata": {},
   "outputs": [],
   "source": []
  },
  {
   "cell_type": "code",
   "execution_count": null,
   "metadata": {},
   "outputs": [],
   "source": []
  },
  {
   "cell_type": "code",
   "execution_count": null,
   "metadata": {},
   "outputs": [],
   "source": []
  },
  {
   "cell_type": "code",
   "execution_count": null,
   "metadata": {},
   "outputs": [],
   "source": []
  }
 ],
 "metadata": {
  "colab": {
   "provenance": []
  },
  "kernelspec": {
   "display_name": "Python 3 (ipykernel)",
   "language": "python",
   "name": "python3"
  },
  "language_info": {
   "codemirror_mode": {
    "name": "ipython",
    "version": 3
   },
   "file_extension": ".py",
   "mimetype": "text/x-python",
   "name": "python",
   "nbconvert_exporter": "python",
   "pygments_lexer": "ipython3",
   "version": "3.9.18"
  }
 },
 "nbformat": 4,
 "nbformat_minor": 4
}
