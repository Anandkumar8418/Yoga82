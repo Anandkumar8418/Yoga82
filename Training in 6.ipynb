{
 "cells": [
  {
   "cell_type": "code",
   "execution_count": 2,
   "id": "23709f67-6643-4587-88e2-138e073a917e",
   "metadata": {},
   "outputs": [
    {
     "name": "stdout",
     "output_type": "stream",
     "text": [
      "1.3.5\n"
     ]
    }
   ],
   "source": [
    "import numpy as np\n",
    "import pandas as pd\n",
    "import os\n",
    "from sklearn.linear_model import LinearRegression\n",
    "from sklearn.linear_model import LogisticRegression\n",
    "from sklearn import preprocessing\n",
    "import tensorflow as tf\n",
    "from tensorflow.keras import Sequential\n",
    "from tensorflow.keras.layers import Dense\n",
    "from tensorflow.keras import activations\n",
    "import matplotlib.pyplot as plt\n",
    "from sklearn.model_selection import GridSearchCV \n",
    "from sklearn.model_selection import RandomizedSearchCV \n",
    "# from tensorflow.keras.wrappers.scikit_learn import KerasRegressor\n",
    "from sklearn.neighbors import KNeighborsClassifier\n",
    "from sklearn.ensemble import RandomForestClassifier\n",
    "from tensorflow.keras.layers import Dropout\n",
    "\n",
    "print(pd.__version__)"
   ]
  },
  {
   "cell_type": "code",
   "execution_count": 52,
   "id": "e6f4d672-0903-4fc4-9333-17f21c9ae873",
   "metadata": {},
   "outputs": [],
   "source": [
    "df = pd.read_csv(\"rawpointsmovenet/Train82.csv\",low_memory=False)\n",
    "tdf = pd.read_csv(\"rawpointsmovenet/Test82.csv\")"
   ]
  },
  {
   "cell_type": "code",
   "execution_count": 53,
   "id": "59d65ec4-b840-4e4b-89ef-ad1c9ac5f984",
   "metadata": {},
   "outputs": [
    {
     "data": {
      "text/plain": [
       "12849"
      ]
     },
     "execution_count": 53,
     "metadata": {},
     "output_type": "execute_result"
    }
   ],
   "source": [
    "len(df)"
   ]
  },
  {
   "cell_type": "code",
   "execution_count": 54,
   "id": "7932254f-3e31-428d-bb6d-1fae70f857ce",
   "metadata": {},
   "outputs": [
    {
     "data": {
      "text/plain": [
       "12849"
      ]
     },
     "execution_count": 54,
     "metadata": {},
     "output_type": "execute_result"
    }
   ],
   "source": [
    "df = df.dropna() #removing nan values\n",
    "tdf = tdf.dropna() #removing nan values\n",
    "tdf.head()\n",
    "len(df)"
   ]
  },
  {
   "cell_type": "code",
   "execution_count": 55,
   "id": "099054e3-1da5-4f72-a76c-d600d56d6978",
   "metadata": {},
   "outputs": [],
   "source": [
    "# df.head()\n",
    "train_x = df.loc[:, df.columns != 'ImgPath' ]\n",
    "train_y = np.array(train_x.loc[:,train_x.columns == 'label'])\n",
    "train_x = np.array(train_x.loc[:, train_x.columns != 'label' ])\n",
    "# print(train_x)\n",
    "\n",
    "# print(train_x)\n",
    "\n",
    "# df.head()\n",
    "test_x = tdf.loc[:, tdf.columns != 'ImgPath' ]\n",
    "test_y = np.array(test_x.loc[:,test_x.columns == 'label'])\n",
    "test_x = np.array(test_x.loc[:, test_x.columns != 'label' ])\n",
    "# print(train_x)\n",
    "\n",
    "# print(test_x)"
   ]
  },
  {
   "cell_type": "code",
   "execution_count": 56,
   "id": "382ebc35-db16-4e81-ade4-7bffc34be23d",
   "metadata": {},
   "outputs": [],
   "source": [
    "\n",
    "scaler = preprocessing.StandardScaler().fit(train_x)\n",
    "train_x = scaler.transform(train_x)\n",
    "# for i in range(len(train_y)):\n",
    "    # train_y[i][0]=int(train_y[i][0])\n",
    "# len(train_x[0])\n",
    "\n",
    "scaler = preprocessing.StandardScaler().fit(test_x)\n",
    "test_x = scaler.transform(test_x)\n",
    "\n"
   ]
  },
  {
   "cell_type": "code",
   "execution_count": 57,
   "id": "0a88b807-6b91-4e3d-841a-6ebec162be66",
   "metadata": {},
   "outputs": [
    {
     "name": "stdout",
     "output_type": "stream",
     "text": [
      "[[-1.43279938 -1.52581728 -1.54000581 ...  1.10778691  0.22563582\n",
      "  -0.93189364]\n",
      " [-1.17388247 -1.30553614 -1.31137138 ...  0.48741055  0.11783399\n",
      "  -0.38884216]\n",
      " [-0.39728654 -0.43638836 -0.40663395 ... -0.48603099 -1.57846137\n",
      "  -0.81881426]\n",
      " ...\n",
      " [ 0.13405485  0.30044653  0.11819131 ...  1.21399444  1.24824283\n",
      "  -1.03828139]\n",
      " [ 1.04290242  0.98528452  1.05023961 ... -0.8473977  -1.99045261\n",
      "  -1.69546028]\n",
      " [-0.16449593 -0.12041183 -0.21904823 ...  1.38682362  0.63583509\n",
      "   1.5203352 ]]\n"
     ]
    },
    {
     "data": {
      "text/plain": [
       "array([[0, 0, 0, ..., 0, 0, 0],\n",
       "       [0, 0, 0, ..., 0, 0, 0],\n",
       "       [0, 0, 0, ..., 0, 0, 0],\n",
       "       ...,\n",
       "       [0, 0, 0, ..., 0, 0, 0],\n",
       "       [0, 0, 0, ..., 0, 0, 0],\n",
       "       [0, 0, 0, ..., 0, 0, 0]])"
      ]
     },
     "execution_count": 57,
     "metadata": {},
     "output_type": "execute_result"
    }
   ],
   "source": [
    "train_y_lst = []\n",
    "for i in range(len(train_x)):\n",
    "    lt = np.zeros((82,), dtype=int)\n",
    "    lt[train_y[i]] = 1\n",
    "    train_y_lst.append(lt)\n",
    "train_y_lst = np.array(train_y_lst)\n",
    "train_y_lst\n",
    "\n",
    "test_y_lst = []\n",
    "for i in range(len(test_x)):\n",
    "    lt = np.zeros((82,), dtype=int)\n",
    "    lt[test_y[i]] = 1\n",
    "    test_y_lst.append(lt)\n",
    "test_y_lst = np.array(test_y_lst)\n",
    "print(test_x)\n",
    "test_y_lst"
   ]
  },
  {
   "cell_type": "code",
   "execution_count": 58,
   "id": "32034d37-90af-4a2b-9ebc-209cd39a101d",
   "metadata": {},
   "outputs": [],
   "source": [
    "from sklearn import datasets\n",
    "from sklearn.model_selection import train_test_split\n",
    "from sklearn.naive_bayes import GaussianNB\n",
    "from sklearn.metrics import accuracy_score\n"
   ]
  },
  {
   "cell_type": "code",
   "execution_count": 59,
   "id": "bd1072aa-0a6b-4c44-a1bc-27f80dc2a2be",
   "metadata": {},
   "outputs": [],
   "source": [
    "from sklearn import datasets\n",
    "from sklearn.model_selection import train_test_split\n",
    "from sklearn.svm import SVC\n",
    "from sklearn.metrics import accuracy_score\n"
   ]
  },
  {
   "cell_type": "code",
   "execution_count": 60,
   "id": "680d4607-f433-46ad-bdf2-0e322171054b",
   "metadata": {},
   "outputs": [],
   "source": [
    "# # Naive Bayes\n",
    "# param_grid = {\n",
    "#     'var_smoothing': [1e-9, 1e-8, 1e-7, 1e-6, 1e-5]\n",
    "# }\n",
    "# nb = GaussianNB()\n",
    "# grid_search = GridSearchCV(nb, param_grid, cv=5, scoring='accuracy')\n",
    "# grid_search.fit(train_x, train_y.ravel())\n",
    "# print(\"Best parameters found: \", grid_search.best_params_)\n"
   ]
  },
  {
   "cell_type": "code",
   "execution_count": 61,
   "id": "d3d9e9c1-ed1e-432d-aff9-d0bedd538617",
   "metadata": {},
   "outputs": [],
   "source": [
    "# # KNN\n",
    "# knn = KNeighborsClassifier()\n",
    "# param_grid = {\n",
    "#     'n_neighbors': [3,  7,  11],\n",
    "#     'weights': ['uniform', 'distance'],\n",
    "#     'metric': ['euclidean', 'manhattan']\n",
    "# }\n",
    "# grid_search = GridSearchCV(estimator=knn,\n",
    "#                            param_grid=param_grid,\n",
    "#                            scoring='neg_mean_squared_error',\n",
    "#                            cv=5)\n",
    "\n",
    "# grid_search.fit(train_x, train_y.ravel())\n",
    "\n",
    "# best_params = grid_search.best_params_\n",
    "# best_score = -grid_search.best_score_\n",
    "\n",
    "# print(\"Best parameters:\", best_params)\n",
    "# print(\"Best score:\", best_score)"
   ]
  },
  {
   "cell_type": "code",
   "execution_count": 62,
   "id": "02565b33-f636-4aca-b331-eea38b534771",
   "metadata": {},
   "outputs": [],
   "source": [
    "# # Random Forest\n",
    "# rf = RandomForestClassifier()\n",
    "# param_grid = {\n",
    "#     'n_estimators': [100],\n",
    "#     'max_depth': [None, 10,],\n",
    "#     'min_samples_split': [2, 5],\n",
    "#     'min_samples_leaf': [1, 3 ]\n",
    "# }\n",
    "# grid_search = GridSearchCV(estimator=rf,\n",
    "#                            param_grid=param_grid,\n",
    "#                            scoring='neg_mean_squared_error',\n",
    "#                            cv=5)\n",
    "# grid_search.fit(train_x, train_y.ravel())\n",
    "\n",
    "# # Get the best parameters and best score\n",
    "# best_params = grid_search.best_params_\n",
    "# best_score = -grid_search.best_score_\n",
    "\n",
    "# print(\"Best parameters:\", best_params)\n",
    "# print(\"Best score:\", best_score)"
   ]
  },
  {
   "cell_type": "code",
   "execution_count": 63,
   "id": "fc5f0388-6e9c-4292-9a1d-4bea36387d94",
   "metadata": {},
   "outputs": [],
   "source": [
    "naive_bayes = GaussianNB(var_smoothing = 1e-09)"
   ]
  },
  {
   "cell_type": "code",
   "execution_count": 64,
   "id": "679039e6-ec34-41c4-b6be-8f12279b9b34",
   "metadata": {},
   "outputs": [
    {
     "name": "stdout",
     "output_type": "stream",
     "text": [
      "Accuracy: 0.41551002423441286\n"
     ]
    }
   ],
   "source": [
    "\n",
    "\n",
    "\n",
    "# Train the classifier\n",
    "naive_bayes.fit(train_x, train_y.ravel())\n",
    "\n",
    "# Make predictions\n",
    "y_pred = naive_bayes.predict(test_x)\n",
    "\n",
    "# Calculate accuracy\n",
    "accuracy = accuracy_score(test_y, y_pred)\n",
    "print(\"Accuracy:\", accuracy)"
   ]
  },
  {
   "cell_type": "code",
   "execution_count": 65,
   "id": "cc714b1e-a337-42ae-800f-1998c761f752",
   "metadata": {},
   "outputs": [],
   "source": [
    "logreg = LogisticRegression(random_state=0,C=1, penalty='l2', solver='saga', max_iter=1000).fit(train_x, train_y.reshape(len(train_y,)))"
   ]
  },
  {
   "cell_type": "code",
   "execution_count": 66,
   "id": "f6655f7b-d9c0-4247-a491-e906612401fb",
   "metadata": {
    "jupyter": {
     "source_hidden": true
    }
   },
   "outputs": [
    {
     "data": {
      "text/plain": [
       "0.6413306895792025"
      ]
     },
     "execution_count": 66,
     "metadata": {},
     "output_type": "execute_result"
    }
   ],
   "source": [
    "# from sklearn.datasets import load_iris\n",
    "# x, y = load_iris(return_X_y=True)\n",
    "# print(x,y)\n",
    "logreg.score(test_x,test_y.ravel())"
   ]
  },
  {
   "cell_type": "code",
   "execution_count": 67,
   "id": "55a1896a-551d-4467-906b-cd6dd842fc6d",
   "metadata": {},
   "outputs": [],
   "source": [
    "from sklearn.neighbors import KNeighborsClassifier\n",
    "knn = KNeighborsClassifier(n_neighbors=3, metric='euclidean', weights='distance')"
   ]
  },
  {
   "cell_type": "code",
   "execution_count": 68,
   "id": "9e56fceb-7fc6-4c47-9e3b-97e6980175bf",
   "metadata": {
    "jupyter": {
     "source_hidden": true
    }
   },
   "outputs": [
    {
     "data": {
      "text/plain": [
       "0.6369244326944261"
      ]
     },
     "execution_count": 68,
     "metadata": {},
     "output_type": "execute_result"
    }
   ],
   "source": [
    "\n",
    "train_y = train_y.ravel()\n",
    "knn.fit(train_x, train_y)\n",
    "y_pred = knn.predict(test_x)\n",
    "from sklearn.metrics import accuracy_score\n",
    "accuracy = accuracy_score(test_y, y_pred)\n",
    "accuracy"
   ]
  },
  {
   "cell_type": "code",
   "execution_count": 69,
   "id": "495eb033-aae6-4059-b240-27bf4d08b75b",
   "metadata": {},
   "outputs": [
    {
     "name": "stdout",
     "output_type": "stream",
     "text": [
      "Kernel: poly Accuracy: 0.6873760740251157\n"
     ]
    }
   ],
   "source": [
    "kernel_types = ['poly']\n",
    "for kernel in kernel_types:\n",
    "    # Create an SVM Classifier with the specified kernel\n",
    "    svm_classifier = SVC(kernel=kernel,gamma = 1,C = 1)\n",
    "    \n",
    "    # Train the classifier\n",
    "    svm_classifier.fit(train_x, train_y)\n",
    "    \n",
    "    # Make predictions\n",
    "    y_pred = svm_classifier.predict(test_x)\n",
    "    \n",
    "    # Calculate accuracy\n",
    "    accuracy = accuracy_score(test_y, y_pred)\n",
    "    print(\"Kernel:\", kernel, \"Accuracy:\", accuracy)"
   ]
  },
  {
   "cell_type": "code",
   "execution_count": 70,
   "id": "7ab7a0d2-364d-4b7d-ba12-0e1abe672a06",
   "metadata": {
    "jupyter": {
     "source_hidden": true
    }
   },
   "outputs": [],
   "source": [
    "from sklearn import datasets\n",
    "from sklearn.model_selection import train_test_split\n",
    "from sklearn.ensemble import RandomForestRegressor\n",
    "from sklearn.ensemble import RandomForestClassifier\n",
    "from sklearn.metrics import accuracy_score\n"
   ]
  },
  {
   "cell_type": "code",
   "execution_count": 71,
   "id": "19720edf-b304-44e7-8232-ad00305d8e0d",
   "metadata": {},
   "outputs": [],
   "source": [
    "random_forest = RandomForestClassifier(max_depth =None, min_samples_leaf =1, min_samples_split= 5, n_estimators= 100)"
   ]
  },
  {
   "cell_type": "code",
   "execution_count": 72,
   "id": "ec430d06-58f4-4b6b-ad62-63c26d467383",
   "metadata": {},
   "outputs": [
    {
     "name": "stdout",
     "output_type": "stream",
     "text": [
      "Accuracy: 0.6911213923771756\n"
     ]
    }
   ],
   "source": [
    "\n",
    "\n",
    "# Train the classifier\n",
    "random_forest.fit(train_x, train_y)\n",
    "\n",
    "# Make predictions\n",
    "y_pred = random_forest.predict(test_x)\n",
    "\n",
    "# Calculate accuracy\n",
    "accuracy = accuracy_score(test_y, y_pred)\n",
    "print(\"Accuracy:\", accuracy)"
   ]
  },
  {
   "cell_type": "code",
   "execution_count": 73,
   "id": "7bec34cc-82c8-47fa-bbd7-0c6f56e1b4f2",
   "metadata": {},
   "outputs": [],
   "source": [
    "random_forest2 = RandomForestClassifier(max_depth =None, min_samples_leaf =1, min_samples_split= 5, n_estimators= 1)"
   ]
  },
  {
   "cell_type": "code",
   "execution_count": 74,
   "id": "6c85a6f4-e2de-43d0-8ca9-57e54bbfc2ab",
   "metadata": {},
   "outputs": [
    {
     "name": "stdout",
     "output_type": "stream",
     "text": [
      "Accuracy: 0.3802599691562018\n"
     ]
    }
   ],
   "source": [
    "\n",
    "\n",
    "# Train the classifier\n",
    "random_forest2.fit(train_x, train_y)\n",
    "\n",
    "# Make predictions\n",
    "y_pred = random_forest2.predict(test_x)\n",
    "\n",
    "# Calculate accuracy\n",
    "accuracy = accuracy_score(test_y, y_pred)\n",
    "print(\"Accuracy:\", accuracy)"
   ]
  },
  {
   "cell_type": "code",
   "execution_count": null,
   "id": "e34ef64e-79e9-45cc-b941-3928d6245479",
   "metadata": {},
   "outputs": [],
   "source": []
  },
  {
   "cell_type": "code",
   "execution_count": null,
   "id": "cdc019de-b8a2-4c94-acda-66b6d0368317",
   "metadata": {},
   "outputs": [],
   "source": []
  },
  {
   "cell_type": "code",
   "execution_count": null,
   "id": "188a54d4-e08c-43e0-a3f0-96e5986f3a3c",
   "metadata": {},
   "outputs": [],
   "source": []
  },
  {
   "cell_type": "code",
   "execution_count": null,
   "id": "36a4811c-3a5d-4aa2-8086-93157ccd7c58",
   "metadata": {},
   "outputs": [],
   "source": []
  },
  {
   "cell_type": "code",
   "execution_count": null,
   "id": "9b6a7bad-d32e-4e7c-ac2d-5f463295e9a0",
   "metadata": {},
   "outputs": [],
   "source": []
  },
  {
   "cell_type": "code",
   "execution_count": null,
   "id": "6fa39c9f-796b-43b8-afbb-41c4016e8d49",
   "metadata": {},
   "outputs": [],
   "source": []
  },
  {
   "cell_type": "code",
   "execution_count": null,
   "id": "a66a568d-287a-410d-821f-3bfad9b6bde1",
   "metadata": {},
   "outputs": [],
   "source": []
  },
  {
   "cell_type": "code",
   "execution_count": null,
   "id": "e17263de-6182-49b7-b05b-4965f5e720de",
   "metadata": {},
   "outputs": [],
   "source": []
  }
 ],
 "metadata": {
  "kernelspec": {
   "display_name": "Python 3 (ipykernel)",
   "language": "python",
   "name": "python3"
  },
  "language_info": {
   "codemirror_mode": {
    "name": "ipython",
    "version": 3
   },
   "file_extension": ".py",
   "mimetype": "text/x-python",
   "name": "python",
   "nbconvert_exporter": "python",
   "pygments_lexer": "ipython3",
   "version": "3.10.13"
  }
 },
 "nbformat": 4,
 "nbformat_minor": 5
}
