{
 "cells": [
  {
   "cell_type": "code",
   "execution_count": 49,
   "id": "23709f67-6643-4587-88e2-138e073a917e",
   "metadata": {},
   "outputs": [
    {
     "name": "stdout",
     "output_type": "stream",
     "text": [
      "1.3.4\n"
     ]
    }
   ],
   "source": [
    "import numpy as np\n",
    "import pandas as pd\n",
    "import os\n",
    "from sklearn.linear_model import LinearRegression\n",
    "from sklearn.linear_model import LogisticRegression\n",
    "from sklearn import preprocessing\n",
    "import tensorflow as tf\n",
    "from tensorflow.keras import Sequential\n",
    "from tensorflow.keras.layers import Dense\n",
    "from tensorflow.keras import activations\n",
    "print(pd.__version__)"
   ]
  },
  {
   "cell_type": "code",
   "execution_count": 91,
   "id": "e6f4d672-0903-4fc4-9333-17f21c9ae873",
   "metadata": {},
   "outputs": [],
   "source": [
    "df = pd.read_csv(\"Train Data/Dataset20/Train20_mod.csv\",low_memory=False)\n",
    "test_df = pd.read_csv(\"Test Data/Dataset20/Test20_mod.csv\")"
   ]
  },
  {
   "cell_type": "code",
   "execution_count": 92,
   "id": "7932254f-3e31-428d-bb6d-1fae70f857ce",
   "metadata": {},
   "outputs": [],
   "source": [
    "df = df.dropna() #removing nan values"
   ]
  },
  {
   "cell_type": "code",
   "execution_count": 93,
   "id": "099054e3-1da5-4f72-a76c-d600d56d6978",
   "metadata": {},
   "outputs": [
    {
     "name": "stdout",
     "output_type": "stream",
     "text": [
      "       centroid1x  centroid1y  centroid1z  centroid2x  centroid2y  centroid2z  \\\n",
      "0        0.422513    0.254560   -0.374822    0.500755    0.234861   -0.248083   \n",
      "1        0.684896    0.375528   -0.390670    0.699897    0.412298   -0.008831   \n",
      "2        0.371867    0.263209   -0.871294    0.408990    0.321969    0.458142   \n",
      "3        0.608533    0.244034   -0.336510    0.577220    0.258585    0.361722   \n",
      "5        0.450276    0.338918   -0.137050    0.554402    0.324082   -0.091386   \n",
      "...           ...         ...         ...         ...         ...         ...   \n",
      "12774    0.468340    0.529022    0.165256    0.476667    0.580891   -0.218463   \n",
      "12775    0.383598    0.671075   -0.634894    0.643526    0.676026   -0.653085   \n",
      "12776    0.405249    0.585145    0.020758    0.635973    0.634743   -0.848358   \n",
      "12778    0.271946    0.623961   -0.192132    0.770950    0.612875   -0.139498   \n",
      "12779    0.619835    0.679609    0.026979    0.649461    0.663963   -0.406289   \n",
      "\n",
      "       centroid3x  centroid3y  centroid3z  centroid4x  ...      cz24  \\\n",
      "0        0.457221    0.653945   -0.141240    0.469132  ... -0.037794   \n",
      "1        0.670592    0.667181   -0.080218    0.655723  ... -0.135800   \n",
      "2        0.336882    0.703811   -0.293453    0.323359  ... -0.244300   \n",
      "3        0.499106    0.604834   -0.148325    0.454256  ... -0.238312   \n",
      "5        0.499465    0.685848   -0.017653    0.573291  ... -0.023182   \n",
      "...           ...         ...         ...         ...  ...       ...   \n",
      "12774    0.596672    0.340915    0.165416    0.599199  ...  0.109740   \n",
      "12775    0.321554    0.519755   -0.369880    0.690593  ...  0.003108   \n",
      "12776    0.454436    0.517263    0.791493    0.597722  ...  0.261686   \n",
      "12778    0.363201    0.756473   -0.401206    0.628382  ... -0.018419   \n",
      "12779    0.696807    0.582209    0.175108    0.712908  ...  0.129085   \n",
      "\n",
      "           cz25      cz26      cz28   leftelbow     lefthip    leftknee  \\\n",
      "0     -0.029850 -0.414340  0.028415  138.055712  156.219833  107.840258   \n",
      "1      0.086676 -0.213970  0.109117  141.419282  153.699989  104.314860   \n",
      "2      0.396971 -0.677105  0.041047  142.656990  146.972037  143.998661   \n",
      "3      0.360540 -0.223189  0.016526   82.111489   94.595889  108.783134   \n",
      "5     -0.203350 -0.072503  0.042727  109.220021  107.495945   20.538495   \n",
      "...         ...       ...       ...         ...         ...         ...   \n",
      "12774 -0.062262  0.148540  0.237970  132.307674   33.076148   68.470056   \n",
      "12775 -0.270280 -0.285412 -0.827336  146.007001   20.897345  152.626542   \n",
      "12776 -0.793585  0.859935  1.252859  151.108855    2.752747   56.759032   \n",
      "12778 -0.730400 -0.732958 -0.452241  152.468333   73.992141   34.310817   \n",
      "12779 -0.271606  0.104635  0.291603  116.794411   18.694969   39.770510   \n",
      "\n",
      "       rightelbow    righthip   rightknee  \n",
      "0      134.812919  102.400822   43.363485  \n",
      "1      142.755385  112.193083   58.265713  \n",
      "2      124.327779   61.181288   25.873601  \n",
      "3       79.128888   94.890499   65.261981  \n",
      "5      116.668340  173.028946  131.736824  \n",
      "...           ...         ...         ...  \n",
      "12774  133.662900   27.361041   65.627679  \n",
      "12775  145.965401   20.095385  159.434996  \n",
      "12776  125.277601   79.668610  130.245376  \n",
      "12778  159.082761   82.591314   34.931717  \n",
      "12779  105.923268   28.330393   65.521023  \n",
      "\n",
      "[10830 rows x 62 columns]\n"
     ]
    }
   ],
   "source": [
    "# df.head()\n",
    "train_x = df.loc[:, df.columns != 'ImgPath' ]\n",
    "train_y = np.array(train_x.loc[:,train_x.columns == 'label'])\n",
    "train_x = (train_x.loc[:, train_x.columns != 'label' ])\n",
    "# print(train_x)\n",
    "\n",
    "print(train_x)"
   ]
  },
  {
   "cell_type": "code",
   "execution_count": 63,
   "id": "382ebc35-db16-4e81-ade4-7bffc34be23d",
   "metadata": {},
   "outputs": [
    {
     "data": {
      "text/plain": [
       "62"
      ]
     },
     "execution_count": 63,
     "metadata": {},
     "output_type": "execute_result"
    }
   ],
   "source": [
    "\n",
    "scaler = preprocessing.StandardScaler().fit(train_x)\n",
    "train_x = scaler.transform(train_x)\n",
    "# for i in range(len(train_y)):\n",
    "    # train_y[i][0]=int(train_y[i][0])\n",
    "len(train_x[0])\n"
   ]
  },
  {
   "cell_type": "code",
   "execution_count": 64,
   "id": "8b0a3ee0-f49b-4f4c-b412-7cecc6eee973",
   "metadata": {},
   "outputs": [],
   "source": [
    "reg = LinearRegression().fit(train_x,train_y)"
   ]
  },
  {
   "cell_type": "code",
   "execution_count": 65,
   "id": "0a4c8774-933d-429e-ae0b-e1f0793fdb97",
   "metadata": {},
   "outputs": [
    {
     "data": {
      "text/plain": [
       "0.42745348796106497"
      ]
     },
     "execution_count": 65,
     "metadata": {},
     "output_type": "execute_result"
    }
   ],
   "source": [
    "reg.score(train_x,train_y)"
   ]
  },
  {
   "cell_type": "code",
   "execution_count": 66,
   "id": "cc714b1e-a337-42ae-800f-1998c761f752",
   "metadata": {},
   "outputs": [
    {
     "name": "stderr",
     "output_type": "stream",
     "text": [
      "C:\\Users\\manan\\anaconda3\\envs\\beta\\lib\\site-packages\\sklearn\\linear_model\\_logistic.py:469: ConvergenceWarning: lbfgs failed to converge (status=1):\n",
      "STOP: TOTAL NO. of ITERATIONS REACHED LIMIT.\n",
      "\n",
      "Increase the number of iterations (max_iter) or scale the data as shown in:\n",
      "    https://scikit-learn.org/stable/modules/preprocessing.html\n",
      "Please also refer to the documentation for alternative solver options:\n",
      "    https://scikit-learn.org/stable/modules/linear_model.html#logistic-regression\n",
      "  n_iter_i = _check_optimize_result(\n"
     ]
    }
   ],
   "source": [
    "logreg = LogisticRegression(random_state=0).fit(train_x, train_y.reshape(len(train_y,)))"
   ]
  },
  {
   "cell_type": "code",
   "execution_count": 67,
   "id": "f6655f7b-d9c0-4247-a491-e906612401fb",
   "metadata": {},
   "outputs": [
    {
     "data": {
      "text/plain": [
       "0.7643582640812557"
      ]
     },
     "execution_count": 67,
     "metadata": {},
     "output_type": "execute_result"
    }
   ],
   "source": [
    "# from sklearn.datasets import load_iris\n",
    "# x, y = load_iris(return_X_y=True)\n",
    "# print(x,y)\n",
    "logreg.score(train_x,train_y)"
   ]
  },
  {
   "cell_type": "code",
   "execution_count": 84,
   "id": "70fdb45e-a9ae-45d7-ac62-0db960731e4d",
   "metadata": {},
   "outputs": [],
   "source": [
    "model = tf.keras.models.Sequential([\n",
    "  Dense(10, input_shape=(62,),activation=activations.relu),\n",
    "  Dense(8, input_shape=(20,),activation=activations.relu),\n",
    "  Dense(8, input_shape=(10,),activation=activations.relu),\n",
    "  Dense(6, input_shape=(6,)),\n",
    "\n",
    "    \n",
    "])"
   ]
  },
  {
   "cell_type": "code",
   "execution_count": 85,
   "id": "42368acf-7463-46d0-b444-ae025083017d",
   "metadata": {},
   "outputs": [],
   "source": [
    "model.compile( loss='binary_crossentropy')"
   ]
  },
  {
   "cell_type": "code",
   "execution_count": 86,
   "id": "5abf1fd1-c56e-4a93-af66-fa53931e7abc",
   "metadata": {},
   "outputs": [
    {
     "name": "stdout",
     "output_type": "stream",
     "text": [
      "Epoch 1/100\n",
      "339/339 [==============================] - 1s 2ms/step - loss: -68.9925\n",
      "Epoch 2/100\n",
      "339/339 [==============================] - 1s 2ms/step - loss: -77.3829\n",
      "Epoch 3/100\n",
      "339/339 [==============================] - 1s 2ms/step - loss: -77.3924\n",
      "Epoch 4/100\n",
      "339/339 [==============================] - 1s 2ms/step - loss: -77.3926\n",
      "Epoch 5/100\n",
      "339/339 [==============================] - 1s 2ms/step - loss: -77.3925\n",
      "Epoch 6/100\n",
      "339/339 [==============================] - 1s 2ms/step - loss: -77.3925\n",
      "Epoch 7/100\n",
      "339/339 [==============================] - 1s 2ms/step - loss: -77.3925\n",
      "Epoch 8/100\n",
      "339/339 [==============================] - 1s 2ms/step - loss: -77.3926\n",
      "Epoch 9/100\n",
      "339/339 [==============================] - 1s 2ms/step - loss: -77.3926\n",
      "Epoch 10/100\n",
      "339/339 [==============================] - 1s 2ms/step - loss: -77.3925\n",
      "Epoch 11/100\n",
      "339/339 [==============================] - 1s 2ms/step - loss: -77.3925\n",
      "Epoch 12/100\n",
      "339/339 [==============================] - 1s 2ms/step - loss: -77.3925\n",
      "Epoch 13/100\n",
      "339/339 [==============================] - 1s 2ms/step - loss: -77.3925\n",
      "Epoch 14/100\n",
      "339/339 [==============================] - 1s 2ms/step - loss: -77.3926\n",
      "Epoch 15/100\n",
      "339/339 [==============================] - 1s 2ms/step - loss: -77.3925\n",
      "Epoch 16/100\n",
      "339/339 [==============================] - 1s 2ms/step - loss: -77.3925\n",
      "Epoch 17/100\n",
      "339/339 [==============================] - 1s 2ms/step - loss: -77.3926\n",
      "Epoch 18/100\n",
      "339/339 [==============================] - 1s 3ms/step - loss: -77.3925\n",
      "Epoch 19/100\n",
      "339/339 [==============================] - 1s 3ms/step - loss: -77.3925\n",
      "Epoch 20/100\n",
      "339/339 [==============================] - 1s 3ms/step - loss: -77.3926\n",
      "Epoch 21/100\n",
      "339/339 [==============================] - 1s 2ms/step - loss: -77.3925\n",
      "Epoch 22/100\n",
      "339/339 [==============================] - 1s 2ms/step - loss: -77.3925\n",
      "Epoch 23/100\n",
      "339/339 [==============================] - 1s 2ms/step - loss: -77.3925\n",
      "Epoch 24/100\n",
      "339/339 [==============================] - 1s 2ms/step - loss: -77.3925\n",
      "Epoch 25/100\n",
      "339/339 [==============================] - 1s 2ms/step - loss: -77.3925\n",
      "Epoch 26/100\n",
      "339/339 [==============================] - 1s 2ms/step - loss: -77.3925\n",
      "Epoch 27/100\n",
      "339/339 [==============================] - 1s 2ms/step - loss: -77.3926\n",
      "Epoch 28/100\n",
      "339/339 [==============================] - 1s 2ms/step - loss: -77.3925\n",
      "Epoch 29/100\n",
      "339/339 [==============================] - 1s 2ms/step - loss: -77.3926\n",
      "Epoch 30/100\n",
      "339/339 [==============================] - 1s 2ms/step - loss: -77.3925\n",
      "Epoch 31/100\n",
      "339/339 [==============================] - 1s 2ms/step - loss: -77.3925\n",
      "Epoch 32/100\n",
      "339/339 [==============================] - 1s 2ms/step - loss: -77.3925\n",
      "Epoch 33/100\n",
      "339/339 [==============================] - 1s 2ms/step - loss: -77.3926\n",
      "Epoch 34/100\n",
      "339/339 [==============================] - 1s 4ms/step - loss: -77.3926\n",
      "Epoch 35/100\n",
      "339/339 [==============================] - 1s 2ms/step - loss: -77.3925\n",
      "Epoch 36/100\n",
      "339/339 [==============================] - 1s 2ms/step - loss: -77.3925\n",
      "Epoch 37/100\n",
      "339/339 [==============================] - 1s 2ms/step - loss: -77.3925\n",
      "Epoch 38/100\n",
      "339/339 [==============================] - 1s 2ms/step - loss: -77.3926\n",
      "Epoch 39/100\n",
      "339/339 [==============================] - 1s 2ms/step - loss: -77.3925\n",
      "Epoch 40/100\n",
      "339/339 [==============================] - 1s 2ms/step - loss: -77.3926\n",
      "Epoch 41/100\n",
      "339/339 [==============================] - 1s 2ms/step - loss: -77.3925\n",
      "Epoch 42/100\n",
      "339/339 [==============================] - 1s 3ms/step - loss: -77.3925\n",
      "Epoch 43/100\n",
      "339/339 [==============================] - 1s 2ms/step - loss: -77.3925\n",
      "Epoch 44/100\n",
      "339/339 [==============================] - 1s 2ms/step - loss: -77.3925\n",
      "Epoch 45/100\n",
      "339/339 [==============================] - 1s 2ms/step - loss: -77.3926\n",
      "Epoch 46/100\n",
      "339/339 [==============================] - 1s 2ms/step - loss: -77.3925\n",
      "Epoch 47/100\n",
      "339/339 [==============================] - 1s 2ms/step - loss: -77.3925\n",
      "Epoch 48/100\n",
      "339/339 [==============================] - 1s 2ms/step - loss: -77.3925\n",
      "Epoch 49/100\n",
      "339/339 [==============================] - 1s 2ms/step - loss: -77.3926\n",
      "Epoch 50/100\n",
      "339/339 [==============================] - 1s 2ms/step - loss: -77.3926\n",
      "Epoch 51/100\n",
      "339/339 [==============================] - 1s 2ms/step - loss: -77.3926\n",
      "Epoch 52/100\n",
      "339/339 [==============================] - 1s 3ms/step - loss: -77.3925\n",
      "Epoch 53/100\n",
      "339/339 [==============================] - 1s 2ms/step - loss: -77.3925\n",
      "Epoch 54/100\n",
      "339/339 [==============================] - 1s 2ms/step - loss: -77.3925\n",
      "Epoch 55/100\n",
      "339/339 [==============================] - 1s 2ms/step - loss: -77.3925\n",
      "Epoch 56/100\n",
      "339/339 [==============================] - 1s 2ms/step - loss: -77.3925\n",
      "Epoch 57/100\n",
      "339/339 [==============================] - 1s 2ms/step - loss: -77.3925\n",
      "Epoch 58/100\n",
      "339/339 [==============================] - 1s 2ms/step - loss: -77.3926\n",
      "Epoch 59/100\n",
      "339/339 [==============================] - 1s 2ms/step - loss: -77.3926\n",
      "Epoch 60/100\n",
      "339/339 [==============================] - 1s 2ms/step - loss: -77.3926\n",
      "Epoch 61/100\n",
      "339/339 [==============================] - 1s 2ms/step - loss: -77.3925\n",
      "Epoch 62/100\n",
      "339/339 [==============================] - 1s 2ms/step - loss: -77.3926\n",
      "Epoch 63/100\n",
      "339/339 [==============================] - 0s 1ms/step - loss: -77.3925\n",
      "Epoch 64/100\n",
      "339/339 [==============================] - 1s 2ms/step - loss: -77.3925\n",
      "Epoch 65/100\n",
      "339/339 [==============================] - 1s 2ms/step - loss: -77.3925\n",
      "Epoch 66/100\n",
      "339/339 [==============================] - 1s 2ms/step - loss: -77.3925\n",
      "Epoch 67/100\n",
      "339/339 [==============================] - 1s 2ms/step - loss: -77.3925\n",
      "Epoch 68/100\n",
      "339/339 [==============================] - 1s 2ms/step - loss: -77.3926\n",
      "Epoch 69/100\n",
      "339/339 [==============================] - 1s 2ms/step - loss: -77.3925\n",
      "Epoch 70/100\n",
      "339/339 [==============================] - 1s 2ms/step - loss: -77.3926\n",
      "Epoch 71/100\n",
      "339/339 [==============================] - 1s 2ms/step - loss: -77.3925\n",
      "Epoch 72/100\n",
      "339/339 [==============================] - 1s 2ms/step - loss: -77.3925\n",
      "Epoch 73/100\n",
      "339/339 [==============================] - 1s 2ms/step - loss: -77.3925\n",
      "Epoch 74/100\n",
      "339/339 [==============================] - 1s 2ms/step - loss: -77.3926\n",
      "Epoch 75/100\n",
      "339/339 [==============================] - 1s 2ms/step - loss: -77.3925\n",
      "Epoch 76/100\n",
      "339/339 [==============================] - 1s 2ms/step - loss: -77.3926\n",
      "Epoch 77/100\n",
      "339/339 [==============================] - 1s 2ms/step - loss: -77.3925\n",
      "Epoch 78/100\n",
      "339/339 [==============================] - 1s 2ms/step - loss: -77.3926\n",
      "Epoch 79/100\n",
      "339/339 [==============================] - 1s 2ms/step - loss: -77.3925\n",
      "Epoch 80/100\n",
      "339/339 [==============================] - 1s 2ms/step - loss: -77.3925\n",
      "Epoch 81/100\n",
      "339/339 [==============================] - 1s 2ms/step - loss: -77.3925\n",
      "Epoch 82/100\n",
      "339/339 [==============================] - 1s 2ms/step - loss: -77.3926\n",
      "Epoch 83/100\n",
      "339/339 [==============================] - 1s 2ms/step - loss: -77.3926\n",
      "Epoch 84/100\n",
      "339/339 [==============================] - 0s 1ms/step - loss: -77.3925\n",
      "Epoch 85/100\n",
      "339/339 [==============================] - 1s 2ms/step - loss: -77.3925\n",
      "Epoch 86/100\n",
      "339/339 [==============================] - 1s 2ms/step - loss: -77.3926\n",
      "Epoch 87/100\n",
      "339/339 [==============================] - 1s 2ms/step - loss: -77.3925\n",
      "Epoch 88/100\n",
      "339/339 [==============================] - 1s 2ms/step - loss: -77.3926\n",
      "Epoch 89/100\n",
      "339/339 [==============================] - 1s 2ms/step - loss: -77.3925\n",
      "Epoch 90/100\n",
      "339/339 [==============================] - 1s 2ms/step - loss: -77.3925\n",
      "Epoch 91/100\n",
      "339/339 [==============================] - 1s 2ms/step - loss: -77.3925\n",
      "Epoch 92/100\n",
      "339/339 [==============================] - 1s 4ms/step - loss: -77.3925\n",
      "Epoch 93/100\n",
      "339/339 [==============================] - 1s 2ms/step - loss: -77.3925\n",
      "Epoch 94/100\n",
      "339/339 [==============================] - 1s 2ms/step - loss: -77.3925\n",
      "Epoch 95/100\n",
      "339/339 [==============================] - 1s 2ms/step - loss: -77.3926\n",
      "Epoch 96/100\n",
      "339/339 [==============================] - 1s 3ms/step - loss: -77.3925\n",
      "Epoch 97/100\n",
      "339/339 [==============================] - 1s 2ms/step - loss: -77.3925\n",
      "Epoch 98/100\n",
      "339/339 [==============================] - 1s 2ms/step - loss: -77.3926\n",
      "Epoch 99/100\n",
      "339/339 [==============================] - 1s 2ms/step - loss: -77.3926\n",
      "Epoch 100/100\n",
      "339/339 [==============================] - 1s 2ms/step - loss: -77.3925\n"
     ]
    },
    {
     "data": {
      "text/plain": [
       "<keras.callbacks.History at 0x1c66bacccd0>"
      ]
     },
     "execution_count": 86,
     "metadata": {},
     "output_type": "execute_result"
    }
   ],
   "source": [
    "model.fit(train_x, train_y, epochs=100)"
   ]
  },
  {
   "cell_type": "code",
   "execution_count": 87,
   "id": "8e908dcd-f4ae-4b5e-a6d4-b0d202d65967",
   "metadata": {},
   "outputs": [
    {
     "name": "stdout",
     "output_type": "stream",
     "text": [
      "339/339 [==============================] - 1s 1ms/step\n"
     ]
    },
    {
     "data": {
      "text/plain": [
       "array([[2.14962974e-01, 2.29466438e-01, 1.53310612e-01, 1.04025390e-03,\n",
       "        2.70630538e-01, 1.30589232e-01],\n",
       "       [4.46152449e-01, 9.35678780e-02, 7.62836933e-02, 4.96673192e-06,\n",
       "        1.22295558e-01, 2.61695474e-01],\n",
       "       [2.26665214e-01, 1.74384534e-01, 1.29729688e-01, 4.53489463e-07,\n",
       "        3.79197150e-01, 9.00230780e-02],\n",
       "       ...,\n",
       "       [4.46778655e-01, 1.28486410e-01, 1.11804485e-01, 2.22869634e-08,\n",
       "        2.35668093e-01, 7.72622749e-02],\n",
       "       [1.08732611e-01, 1.26451954e-01, 2.52934366e-01, 1.30105112e-03,\n",
       "        2.49307632e-01, 2.61272401e-01],\n",
       "       [2.01595291e-01, 2.22276852e-01, 1.16714180e-01, 8.82529857e-05,\n",
       "        2.84146518e-01, 1.75178960e-01]], dtype=float32)"
      ]
     },
     "execution_count": 87,
     "metadata": {},
     "output_type": "execute_result"
    }
   ],
   "source": [
    "yhat = model.predict(train_x)\n",
    "prob_y = tf.nn.softmax(yhat).numpy()\n",
    "prob_y"
   ]
  },
  {
   "cell_type": "code",
   "execution_count": 125,
   "id": "7f708594-fbd3-4078-9f9c-e0823aad546a",
   "metadata": {},
   "outputs": [
    {
     "ename": "ValueError",
     "evalue": "The truth value of an array with more than one element is ambiguous. Use a.any() or a.all()",
     "output_type": "error",
     "traceback": [
      "\u001b[0;31m---------------------------------------------------------------------------\u001b[0m",
      "\u001b[0;31mValueError\u001b[0m                                Traceback (most recent call last)",
      "Cell \u001b[0;32mIn[125], line 4\u001b[0m\n\u001b[1;32m      2\u001b[0m wrong \u001b[38;5;241m=\u001b[39m \u001b[38;5;241m0\u001b[39m\n\u001b[1;32m      3\u001b[0m \u001b[38;5;28;01mfor\u001b[39;00m i \u001b[38;5;129;01min\u001b[39;00m \u001b[38;5;28mrange\u001b[39m(\u001b[38;5;28mlen\u001b[39m(yhat)):\n\u001b[0;32m----> 4\u001b[0m     \u001b[38;5;28;01mif\u001b[39;00m(yhat[i] \u001b[38;5;241m==\u001b[39m train_y[i]):\n\u001b[1;32m      5\u001b[0m         right\u001b[38;5;241m+\u001b[39m\u001b[38;5;241m=\u001b[39m\u001b[38;5;241m1\u001b[39m\n\u001b[1;32m      6\u001b[0m     \u001b[38;5;28;01melse\u001b[39;00m:\n",
      "\u001b[0;31mValueError\u001b[0m: The truth value of an array with more than one element is ambiguous. Use a.any() or a.all()"
     ]
    }
   ],
   "source": [
    "right = 0\n",
    "wrong = 0\n",
    "for i in range(len(yhat)):\n",
    "    if(yhat[i] == train_y[i]):\n",
    "        right+=1\n",
    "    else:\n",
    "        wrong+=1\n",
    "    print(yhat[i],train_y[i])\n",
    "print(wrong,right)"
   ]
  },
  {
   "cell_type": "code",
   "execution_count": null,
   "id": "67e4404e-8ec3-4e17-9c9e-da850c40c6af",
   "metadata": {},
   "outputs": [],
   "source": []
  },
  {
   "cell_type": "code",
   "execution_count": null,
   "id": "bd1072aa-0a6b-4c44-a1bc-27f80dc2a2be",
   "metadata": {},
   "outputs": [],
   "source": []
  }
 ],
 "metadata": {
  "kernelspec": {
   "display_name": "Python 3 (ipykernel)",
   "language": "python",
   "name": "python3"
  },
  "language_info": {
   "codemirror_mode": {
    "name": "ipython",
    "version": 3
   },
   "file_extension": ".py",
   "mimetype": "text/x-python",
   "name": "python",
   "nbconvert_exporter": "python",
   "pygments_lexer": "ipython3",
   "version": "3.9.18"
  }
 },
 "nbformat": 4,
 "nbformat_minor": 5
}
