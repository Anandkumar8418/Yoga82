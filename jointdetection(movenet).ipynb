{
 "cells": [
  {
   "cell_type": "code",
   "execution_count": 238,
   "metadata": {
    "id": "WxzZ4AsvfG5_"
   },
   "outputs": [],
   "source": [
    " \n",
    "file_path = 'rawpointsmovenet/Dataset82/train82i2.csv'"
   ]
  },
  {
   "cell_type": "code",
   "execution_count": 239,
   "metadata": {},
   "outputs": [],
   "source": [
    "x = 40\n",
    "y = 60"
   ]
  },
  {
   "cell_type": "code",
   "execution_count": 240,
   "metadata": {},
   "outputs": [
    {
     "name": "stdout",
     "output_type": "stream",
     "text": [
      "1.3.5\n"
     ]
    }
   ],
   "source": [
    "import numpy as np\n",
    "import pandas as pd\n",
    "import os\n",
    "print(pd.__version__)"
   ]
  },
  {
   "cell_type": "code",
   "execution_count": 241,
   "metadata": {
    "id": "PviHNpczYK2m"
   },
   "outputs": [],
   "source": [
    "df2 = pd.DataFrame()\n",
    "df2.to_csv(file_path)"
   ]
  },
  {
   "cell_type": "code",
   "execution_count": 242,
   "metadata": {
    "id": "7CIdvbwST3Cn",
    "jupyter": {
     "source_hidden": true
    }
   },
   "outputs": [],
   "source": [
    "# Import TF and TF Hub libraries.\n",
    "import tensorflow as tf\n",
    "model_path = 'models/4.tflite'\n",
    "# Load the input image.\n"
   ]
  },
  {
   "cell_type": "markdown",
   "metadata": {
    "id": "PVhn1fBDXbbH"
   },
   "source": [
    "Phir nihce wala run krdo aur band mt hone dena beech me ni to shuru se start ho jygea.\n",
    "Shyad 3-4 ghnta lgega jada b lag skta h."
   ]
  },
  {
   "cell_type": "code",
   "execution_count": 243,
   "metadata": {
    "colab": {
     "base_uri": "https://localhost:8080/",
     "height": 1000
    },
    "id": "5YrmuSGhT9rW",
    "outputId": "0553a00b-1c9d-4dc3-fb6f-bc1bebfcc46a"
   },
   "outputs": [
    {
     "name": "stderr",
     "output_type": "stream",
     "text": [
      "2024-06-15 01:13:41.167832: W tensorflow/core/framework/local_rendezvous.cc:404] Local rendezvous is aborting with status: INVALID_ARGUMENT: Unknown image file format. One of JPEG, PNG, GIF, BMP required.\n",
      "2024-06-15 01:13:47.013209: W tensorflow/core/framework/local_rendezvous.cc:404] Local rendezvous is aborting with status: INVALID_ARGUMENT: Unknown image file format. One of JPEG, PNG, GIF, BMP required.\n",
      "2024-06-15 01:13:49.054650: W tensorflow/core/framework/local_rendezvous.cc:404] Local rendezvous is aborting with status: INVALID_ARGUMENT: Unknown image file format. One of JPEG, PNG, GIF, BMP required.\n",
      "2024-06-15 01:13:53.924746: W tensorflow/core/framework/local_rendezvous.cc:404] Local rendezvous is aborting with status: INVALID_ARGUMENT: Unknown image file format. One of JPEG, PNG, GIF, BMP required.\n",
      "2024-06-15 01:13:54.486142: W tensorflow/core/framework/local_rendezvous.cc:404] Local rendezvous is aborting with status: INVALID_ARGUMENT: Unknown image file format. One of JPEG, PNG, GIF, BMP required.\n",
      "2024-06-15 01:13:56.046552: W tensorflow/core/framework/local_rendezvous.cc:404] Local rendezvous is aborting with status: INVALID_ARGUMENT: Unknown image file format. One of JPEG, PNG, GIF, BMP required.\n",
      "2024-06-15 01:13:56.960038: W tensorflow/core/framework/local_rendezvous.cc:404] Local rendezvous is aborting with status: INVALID_ARGUMENT: Unknown image file format. One of JPEG, PNG, GIF, BMP required.\n",
      "2024-06-15 01:13:57.076037: W tensorflow/core/framework/local_rendezvous.cc:404] Local rendezvous is aborting with status: INVALID_ARGUMENT: Unknown image file format. One of JPEG, PNG, GIF, BMP required.\n",
      "2024-06-15 01:13:58.619607: W tensorflow/core/framework/local_rendezvous.cc:404] Local rendezvous is aborting with status: INVALID_ARGUMENT: Unknown image file format. One of JPEG, PNG, GIF, BMP required.\n",
      "2024-06-15 01:13:59.012263: W tensorflow/core/framework/local_rendezvous.cc:404] Local rendezvous is aborting with status: INVALID_ARGUMENT: Unknown image file format. One of JPEG, PNG, GIF, BMP required.\n",
      "2024-06-15 01:13:59.336683: W tensorflow/core/framework/local_rendezvous.cc:404] Local rendezvous is aborting with status: INVALID_ARGUMENT: Unknown image file format. One of JPEG, PNG, GIF, BMP required.\n",
      "2024-06-15 01:13:59.462430: W tensorflow/core/framework/local_rendezvous.cc:404] Local rendezvous is aborting with status: INVALID_ARGUMENT: Unknown image file format. One of JPEG, PNG, GIF, BMP required.\n",
      "2024-06-15 01:13:59.466404: W tensorflow/core/framework/local_rendezvous.cc:404] Local rendezvous is aborting with status: INVALID_ARGUMENT: Unknown image file format. One of JPEG, PNG, GIF, BMP required.\n",
      "2024-06-15 01:14:03.163456: W tensorflow/core/framework/local_rendezvous.cc:404] Local rendezvous is aborting with status: INVALID_ARGUMENT: Unknown image file format. One of JPEG, PNG, GIF, BMP required.\n",
      "2024-06-15 01:14:03.627085: W tensorflow/core/lib/png/png_io.cc:89] PNG warning: iCCP: known incorrect sRGB profile\n",
      "2024-06-15 01:14:05.409592: W tensorflow/core/framework/local_rendezvous.cc:404] Local rendezvous is aborting with status: INVALID_ARGUMENT: Unknown image file format. One of JPEG, PNG, GIF, BMP required.\n",
      "2024-06-15 01:14:05.664087: W tensorflow/core/framework/local_rendezvous.cc:404] Local rendezvous is aborting with status: INVALID_ARGUMENT: Unknown image file format. One of JPEG, PNG, GIF, BMP required.\n",
      "2024-06-15 01:14:06.620266: W tensorflow/core/lib/png/png_io.cc:89] PNG warning: iCCP: known incorrect sRGB profile\n",
      "2024-06-15 01:14:07.310361: W tensorflow/core/framework/local_rendezvous.cc:404] Local rendezvous is aborting with status: INVALID_ARGUMENT: Unknown image file format. One of JPEG, PNG, GIF, BMP required.\n",
      "2024-06-15 01:14:09.681521: W tensorflow/core/framework/local_rendezvous.cc:404] Local rendezvous is aborting with status: INVALID_ARGUMENT: Unknown image file format. One of JPEG, PNG, GIF, BMP required.\n",
      "2024-06-15 01:14:10.413488: W tensorflow/core/framework/local_rendezvous.cc:404] Local rendezvous is aborting with status: INVALID_ARGUMENT: Unknown image file format. One of JPEG, PNG, GIF, BMP required.\n",
      "2024-06-15 01:14:10.990926: W tensorflow/core/framework/local_rendezvous.cc:404] Local rendezvous is aborting with status: INVALID_ARGUMENT: Unknown image file format. One of JPEG, PNG, GIF, BMP required.\n",
      "2024-06-15 01:14:12.131948: W tensorflow/core/framework/local_rendezvous.cc:404] Local rendezvous is aborting with status: INVALID_ARGUMENT: Unknown image file format. One of JPEG, PNG, GIF, BMP required.\n",
      "2024-06-15 01:14:13.348499: W tensorflow/core/framework/local_rendezvous.cc:404] Local rendezvous is aborting with status: INVALID_ARGUMENT: Unknown image file format. One of JPEG, PNG, GIF, BMP required.\n",
      "2024-06-15 01:14:15.917988: W tensorflow/core/framework/local_rendezvous.cc:404] Local rendezvous is aborting with status: INVALID_ARGUMENT: Unknown image file format. One of JPEG, PNG, GIF, BMP required.\n",
      "2024-06-15 01:14:22.584151: W tensorflow/core/framework/local_rendezvous.cc:404] Local rendezvous is aborting with status: INVALID_ARGUMENT: Unknown image file format. One of JPEG, PNG, GIF, BMP required.\n",
      "2024-06-15 01:14:27.775309: W tensorflow/core/framework/local_rendezvous.cc:404] Local rendezvous is aborting with status: INVALID_ARGUMENT: Unknown image file format. One of JPEG, PNG, GIF, BMP required.\n",
      "2024-06-15 01:14:37.270679: W tensorflow/core/framework/local_rendezvous.cc:404] Local rendezvous is aborting with status: INVALID_ARGUMENT: Unknown image file format. One of JPEG, PNG, GIF, BMP required.\n",
      "2024-06-15 01:14:43.735313: W tensorflow/core/framework/local_rendezvous.cc:404] Local rendezvous is aborting with status: INVALID_ARGUMENT: Unknown image file format. One of JPEG, PNG, GIF, BMP required.\n",
      "2024-06-15 01:14:43.946777: W tensorflow/core/framework/local_rendezvous.cc:404] Local rendezvous is aborting with status: INVALID_ARGUMENT: Unknown image file format. One of JPEG, PNG, GIF, BMP required.\n",
      "2024-06-15 01:14:45.332741: W tensorflow/core/framework/local_rendezvous.cc:404] Local rendezvous is aborting with status: INVALID_ARGUMENT: Unknown image file format. One of JPEG, PNG, GIF, BMP required.\n",
      "2024-06-15 01:14:45.764344: W tensorflow/core/framework/local_rendezvous.cc:404] Local rendezvous is aborting with status: INVALID_ARGUMENT: Unknown image file format. One of JPEG, PNG, GIF, BMP required.\n",
      "2024-06-15 01:14:48.025725: W tensorflow/core/framework/local_rendezvous.cc:404] Local rendezvous is aborting with status: INVALID_ARGUMENT: Unknown image file format. One of JPEG, PNG, GIF, BMP required.\n",
      "2024-06-15 01:14:51.904652: W tensorflow/core/framework/local_rendezvous.cc:404] Local rendezvous is aborting with status: INVALID_ARGUMENT: Unknown image file format. One of JPEG, PNG, GIF, BMP required.\n",
      "2024-06-15 01:14:54.355101: W tensorflow/core/framework/local_rendezvous.cc:404] Local rendezvous is aborting with status: INVALID_ARGUMENT: Unknown image file format. One of JPEG, PNG, GIF, BMP required.\n",
      "2024-06-15 01:15:01.866425: W tensorflow/core/framework/local_rendezvous.cc:404] Local rendezvous is aborting with status: INVALID_ARGUMENT: Unknown image file format. One of JPEG, PNG, GIF, BMP required.\n",
      "2024-06-15 01:15:03.275965: W tensorflow/core/framework/local_rendezvous.cc:404] Local rendezvous is aborting with status: INVALID_ARGUMENT: Unknown image file format. One of JPEG, PNG, GIF, BMP required.\n",
      "2024-06-15 01:15:09.367513: W tensorflow/core/framework/local_rendezvous.cc:404] Local rendezvous is aborting with status: INVALID_ARGUMENT: Unknown image file format. One of JPEG, PNG, GIF, BMP required.\n",
      "2024-06-15 01:15:09.998331: W tensorflow/core/framework/local_rendezvous.cc:404] Local rendezvous is aborting with status: INVALID_ARGUMENT: Unknown image file format. One of JPEG, PNG, GIF, BMP required.\n",
      "2024-06-15 01:15:11.907917: W tensorflow/core/framework/local_rendezvous.cc:404] Local rendezvous is aborting with status: INVALID_ARGUMENT: Unknown image file format. One of JPEG, PNG, GIF, BMP required.\n",
      "2024-06-15 01:15:26.481825: W tensorflow/core/framework/local_rendezvous.cc:404] Local rendezvous is aborting with status: INVALID_ARGUMENT: Unknown image file format. One of JPEG, PNG, GIF, BMP required.\n",
      "2024-06-15 01:15:27.170180: W tensorflow/core/framework/local_rendezvous.cc:404] Local rendezvous is aborting with status: INVALID_ARGUMENT: Unknown image file format. One of JPEG, PNG, GIF, BMP required.\n",
      "2024-06-15 01:15:29.890883: W tensorflow/core/framework/local_rendezvous.cc:404] Local rendezvous is aborting with status: INVALID_ARGUMENT: Unknown image file format. One of JPEG, PNG, GIF, BMP required.\n",
      "2024-06-15 01:15:38.431264: W tensorflow/core/framework/local_rendezvous.cc:404] Local rendezvous is aborting with status: INVALID_ARGUMENT: Unknown image file format. One of JPEG, PNG, GIF, BMP required.\n",
      "2024-06-15 01:15:44.683839: W tensorflow/core/lib/png/png_io.cc:89] PNG warning: iCCP: known incorrect sRGB profile\n",
      "2024-06-15 01:15:49.103331: W tensorflow/core/framework/local_rendezvous.cc:404] Local rendezvous is aborting with status: INVALID_ARGUMENT: Unknown image file format. One of JPEG, PNG, GIF, BMP required.\n",
      "Corrupt JPEG data: 2932 extraneous bytes before marker 0xed\n",
      "2024-06-15 01:15:59.042731: W tensorflow/core/framework/local_rendezvous.cc:404] Local rendezvous is aborting with status: INVALID_ARGUMENT: Unknown image file format. One of JPEG, PNG, GIF, BMP required.\n",
      "2024-06-15 01:16:00.164751: W tensorflow/core/framework/local_rendezvous.cc:404] Local rendezvous is aborting with status: INVALID_ARGUMENT: Unknown image file format. One of JPEG, PNG, GIF, BMP required.\n",
      "2024-06-15 01:16:00.569503: W tensorflow/core/framework/local_rendezvous.cc:404] Local rendezvous is aborting with status: INVALID_ARGUMENT: Unknown image file format. One of JPEG, PNG, GIF, BMP required.\n",
      "2024-06-15 01:16:07.875854: W tensorflow/core/framework/local_rendezvous.cc:404] Local rendezvous is aborting with status: INVALID_ARGUMENT: Unknown image file format. One of JPEG, PNG, GIF, BMP required.\n",
      "2024-06-15 01:16:08.306350: W tensorflow/core/framework/local_rendezvous.cc:404] Local rendezvous is aborting with status: INVALID_ARGUMENT: Unknown image file format. One of JPEG, PNG, GIF, BMP required.\n",
      "2024-06-15 01:16:10.094280: W tensorflow/core/framework/local_rendezvous.cc:404] Local rendezvous is aborting with status: INVALID_ARGUMENT: Unknown image file format. One of JPEG, PNG, GIF, BMP required.\n",
      "2024-06-15 01:16:10.105707: W tensorflow/core/framework/local_rendezvous.cc:404] Local rendezvous is aborting with status: INVALID_ARGUMENT: Unknown image file format. One of JPEG, PNG, GIF, BMP required.\n",
      "2024-06-15 01:16:12.099060: W tensorflow/core/framework/local_rendezvous.cc:404] Local rendezvous is aborting with status: INVALID_ARGUMENT: Unknown image file format. One of JPEG, PNG, GIF, BMP required.\n",
      "2024-06-15 01:16:12.350252: W tensorflow/core/framework/local_rendezvous.cc:404] Local rendezvous is aborting with status: INVALID_ARGUMENT: Unknown image file format. One of JPEG, PNG, GIF, BMP required.\n",
      "2024-06-15 01:16:14.855920: W tensorflow/core/framework/local_rendezvous.cc:404] Local rendezvous is aborting with status: INVALID_ARGUMENT: Unknown image file format. One of JPEG, PNG, GIF, BMP required.\n",
      "2024-06-15 01:16:14.866116: W tensorflow/core/framework/local_rendezvous.cc:404] Local rendezvous is aborting with status: INVALID_ARGUMENT: Unknown image file format. One of JPEG, PNG, GIF, BMP required.\n",
      "2024-06-15 01:16:15.312129: W tensorflow/core/framework/local_rendezvous.cc:404] Local rendezvous is aborting with status: INVALID_ARGUMENT: Unknown image file format. One of JPEG, PNG, GIF, BMP required.\n",
      "2024-06-15 01:16:15.603970: W tensorflow/core/framework/local_rendezvous.cc:404] Local rendezvous is aborting with status: INVALID_ARGUMENT: Unknown image file format. One of JPEG, PNG, GIF, BMP required.\n",
      "2024-06-15 01:16:19.804504: W tensorflow/core/framework/local_rendezvous.cc:404] Local rendezvous is aborting with status: INVALID_ARGUMENT: Unknown image file format. One of JPEG, PNG, GIF, BMP required.\n",
      "2024-06-15 01:16:19.952832: W tensorflow/core/framework/local_rendezvous.cc:404] Local rendezvous is aborting with status: INVALID_ARGUMENT: Unknown image file format. One of JPEG, PNG, GIF, BMP required.\n",
      "2024-06-15 01:16:19.962171: W tensorflow/core/framework/local_rendezvous.cc:404] Local rendezvous is aborting with status: INVALID_ARGUMENT: Unknown image file format. One of JPEG, PNG, GIF, BMP required.\n",
      "2024-06-15 01:16:27.950748: W tensorflow/core/framework/local_rendezvous.cc:404] Local rendezvous is aborting with status: INVALID_ARGUMENT: Unknown image file format. One of JPEG, PNG, GIF, BMP required.\n",
      "2024-06-15 01:16:32.106763: W tensorflow/core/framework/local_rendezvous.cc:404] Local rendezvous is aborting with status: INVALID_ARGUMENT: Unknown image file format. One of JPEG, PNG, GIF, BMP required.\n",
      "2024-06-15 01:16:43.744509: W tensorflow/core/framework/local_rendezvous.cc:404] Local rendezvous is aborting with status: INVALID_ARGUMENT: Unknown image file format. One of JPEG, PNG, GIF, BMP required.\n",
      "2024-06-15 01:17:02.924035: W tensorflow/core/framework/local_rendezvous.cc:404] Local rendezvous is aborting with status: INVALID_ARGUMENT: Unknown image file format. One of JPEG, PNG, GIF, BMP required.\n",
      "2024-06-15 01:17:03.723747: W tensorflow/core/framework/local_rendezvous.cc:404] Local rendezvous is aborting with status: INVALID_ARGUMENT: Unknown image file format. One of JPEG, PNG, GIF, BMP required.\n",
      "2024-06-15 01:17:06.463534: W tensorflow/core/framework/local_rendezvous.cc:404] Local rendezvous is aborting with status: INVALID_ARGUMENT: Unknown image file format. One of JPEG, PNG, GIF, BMP required.\n",
      "2024-06-15 01:17:10.077470: W tensorflow/core/framework/local_rendezvous.cc:404] Local rendezvous is aborting with status: INVALID_ARGUMENT: Unknown image file format. One of JPEG, PNG, GIF, BMP required.\n",
      "2024-06-15 01:17:15.568247: W tensorflow/core/framework/local_rendezvous.cc:404] Local rendezvous is aborting with status: INVALID_ARGUMENT: Unknown image file format. One of JPEG, PNG, GIF, BMP required.\n",
      "2024-06-15 01:17:17.067855: W tensorflow/core/framework/local_rendezvous.cc:404] Local rendezvous is aborting with status: INVALID_ARGUMENT: Unknown image file format. One of JPEG, PNG, GIF, BMP required.\n",
      "2024-06-15 01:17:20.719401: W tensorflow/core/framework/local_rendezvous.cc:404] Local rendezvous is aborting with status: INVALID_ARGUMENT: Unknown image file format. One of JPEG, PNG, GIF, BMP required.\n",
      "2024-06-15 01:17:21.499488: W tensorflow/core/framework/local_rendezvous.cc:404] Local rendezvous is aborting with status: INVALID_ARGUMENT: Unknown image file format. One of JPEG, PNG, GIF, BMP required.\n",
      "2024-06-15 01:17:28.895678: W tensorflow/core/framework/local_rendezvous.cc:404] Local rendezvous is aborting with status: INVALID_ARGUMENT: Unknown image file format. One of JPEG, PNG, GIF, BMP required.\n",
      "2024-06-15 01:17:41.367566: W tensorflow/core/framework/local_rendezvous.cc:404] Local rendezvous is aborting with status: INVALID_ARGUMENT: Unknown image file format. One of JPEG, PNG, GIF, BMP required.\n",
      "2024-06-15 01:18:08.832500: W tensorflow/core/framework/local_rendezvous.cc:404] Local rendezvous is aborting with status: INVALID_ARGUMENT: Unknown image file format. One of JPEG, PNG, GIF, BMP required.\n",
      "2024-06-15 01:18:10.141862: W tensorflow/core/framework/local_rendezvous.cc:404] Local rendezvous is aborting with status: INVALID_ARGUMENT: Unknown image file format. One of JPEG, PNG, GIF, BMP required.\n",
      "2024-06-15 01:18:14.718238: W tensorflow/core/framework/local_rendezvous.cc:404] Local rendezvous is aborting with status: INVALID_ARGUMENT: Unknown image file format. One of JPEG, PNG, GIF, BMP required.\n",
      "2024-06-15 01:18:15.272420: W tensorflow/core/framework/local_rendezvous.cc:404] Local rendezvous is aborting with status: INVALID_ARGUMENT: Unknown image file format. One of JPEG, PNG, GIF, BMP required.\n",
      "2024-06-15 01:18:17.532218: W tensorflow/core/framework/local_rendezvous.cc:404] Local rendezvous is aborting with status: INVALID_ARGUMENT: Unknown image file format. One of JPEG, PNG, GIF, BMP required.\n",
      "2024-06-15 01:18:18.107653: W tensorflow/core/framework/local_rendezvous.cc:404] Local rendezvous is aborting with status: INVALID_ARGUMENT: Input is empty.\n",
      "2024-06-15 01:18:18.301656: W tensorflow/core/framework/local_rendezvous.cc:404] Local rendezvous is aborting with status: INVALID_ARGUMENT: Unknown image file format. One of JPEG, PNG, GIF, BMP required.\n",
      "2024-06-15 01:18:18.315117: W tensorflow/core/framework/local_rendezvous.cc:404] Local rendezvous is aborting with status: INVALID_ARGUMENT: Unknown image file format. One of JPEG, PNG, GIF, BMP required.\n",
      "2024-06-15 01:18:22.212954: W tensorflow/core/framework/local_rendezvous.cc:404] Local rendezvous is aborting with status: INVALID_ARGUMENT: Unknown image file format. One of JPEG, PNG, GIF, BMP required.\n",
      "2024-06-15 01:18:23.819833: W tensorflow/core/framework/local_rendezvous.cc:404] Local rendezvous is aborting with status: INVALID_ARGUMENT: Unknown image file format. One of JPEG, PNG, GIF, BMP required.\n",
      "2024-06-15 01:18:25.409213: W tensorflow/core/framework/local_rendezvous.cc:404] Local rendezvous is aborting with status: INVALID_ARGUMENT: Unknown image file format. One of JPEG, PNG, GIF, BMP required.\n",
      "2024-06-15 01:18:29.514061: W tensorflow/core/framework/local_rendezvous.cc:404] Local rendezvous is aborting with status: INVALID_ARGUMENT: Unknown image file format. One of JPEG, PNG, GIF, BMP required.\n",
      "2024-06-15 01:18:33.751916: W tensorflow/core/framework/local_rendezvous.cc:404] Local rendezvous is aborting with status: INVALID_ARGUMENT: Unknown image file format. One of JPEG, PNG, GIF, BMP required.\n",
      "2024-06-15 01:18:42.805345: W tensorflow/core/framework/local_rendezvous.cc:404] Local rendezvous is aborting with status: INVALID_ARGUMENT: Unknown image file format. One of JPEG, PNG, GIF, BMP required.\n",
      "2024-06-15 01:18:48.341510: W tensorflow/core/framework/local_rendezvous.cc:404] Local rendezvous is aborting with status: INVALID_ARGUMENT: Unknown image file format. One of JPEG, PNG, GIF, BMP required.\n",
      "2024-06-15 01:18:51.278853: W tensorflow/core/framework/local_rendezvous.cc:404] Local rendezvous is aborting with status: INVALID_ARGUMENT: Unknown image file format. One of JPEG, PNG, GIF, BMP required.\n",
      "2024-06-15 01:18:55.982899: W tensorflow/core/framework/local_rendezvous.cc:404] Local rendezvous is aborting with status: INVALID_ARGUMENT: Unknown image file format. One of JPEG, PNG, GIF, BMP required.\n",
      "2024-06-15 01:19:04.029094: W tensorflow/core/framework/local_rendezvous.cc:404] Local rendezvous is aborting with status: INVALID_ARGUMENT: Unknown image file format. One of JPEG, PNG, GIF, BMP required.\n",
      "2024-06-15 01:19:08.538915: W tensorflow/core/framework/local_rendezvous.cc:404] Local rendezvous is aborting with status: INVALID_ARGUMENT: Unknown image file format. One of JPEG, PNG, GIF, BMP required.\n",
      "2024-06-15 01:19:27.122545: W tensorflow/core/framework/local_rendezvous.cc:404] Local rendezvous is aborting with status: INVALID_ARGUMENT: Unknown image file format. One of JPEG, PNG, GIF, BMP required.\n",
      "2024-06-15 01:19:27.137349: W tensorflow/core/framework/local_rendezvous.cc:404] Local rendezvous is aborting with status: INVALID_ARGUMENT: Unknown image file format. One of JPEG, PNG, GIF, BMP required.\n",
      "2024-06-15 01:19:29.234028: W tensorflow/core/framework/local_rendezvous.cc:404] Local rendezvous is aborting with status: INVALID_ARGUMENT: Unknown image file format. One of JPEG, PNG, GIF, BMP required.\n",
      "2024-06-15 01:19:35.749731: W tensorflow/core/framework/local_rendezvous.cc:404] Local rendezvous is aborting with status: INVALID_ARGUMENT: Unknown image file format. One of JPEG, PNG, GIF, BMP required.\n",
      "2024-06-15 01:19:36.851845: W tensorflow/core/framework/local_rendezvous.cc:404] Local rendezvous is aborting with status: INVALID_ARGUMENT: Unknown image file format. One of JPEG, PNG, GIF, BMP required.\n",
      "2024-06-15 01:19:39.686031: W tensorflow/core/framework/local_rendezvous.cc:404] Local rendezvous is aborting with status: INVALID_ARGUMENT: Unknown image file format. One of JPEG, PNG, GIF, BMP required.\n",
      "2024-06-15 01:19:42.489815: W tensorflow/core/framework/local_rendezvous.cc:404] Local rendezvous is aborting with status: INVALID_ARGUMENT: Unknown image file format. One of JPEG, PNG, GIF, BMP required.\n",
      "2024-06-15 01:19:42.929772: W tensorflow/core/framework/local_rendezvous.cc:404] Local rendezvous is aborting with status: INVALID_ARGUMENT: Unknown image file format. One of JPEG, PNG, GIF, BMP required.\n",
      "2024-06-15 01:19:44.344171: W tensorflow/core/framework/local_rendezvous.cc:404] Local rendezvous is aborting with status: INVALID_ARGUMENT: Unknown image file format. One of JPEG, PNG, GIF, BMP required.\n",
      "2024-06-15 01:19:47.647020: W tensorflow/core/framework/local_rendezvous.cc:404] Local rendezvous is aborting with status: INVALID_ARGUMENT: Unknown image file format. One of JPEG, PNG, GIF, BMP required.\n",
      "2024-06-15 01:19:59.356791: W tensorflow/core/framework/local_rendezvous.cc:404] Local rendezvous is aborting with status: INVALID_ARGUMENT: Unknown image file format. One of JPEG, PNG, GIF, BMP required.\n",
      "2024-06-15 01:20:07.909486: W tensorflow/core/framework/local_rendezvous.cc:404] Local rendezvous is aborting with status: INVALID_ARGUMENT: Unknown image file format. One of JPEG, PNG, GIF, BMP required.\n",
      "2024-06-15 01:20:10.619817: W tensorflow/core/lib/png/png_io.cc:89] PNG warning: iCCP: known incorrect sRGB profile\n",
      "2024-06-15 01:20:14.815242: W tensorflow/core/framework/local_rendezvous.cc:404] Local rendezvous is aborting with status: INVALID_ARGUMENT: Input is empty.\n",
      "2024-06-15 01:20:15.040395: W tensorflow/core/framework/local_rendezvous.cc:404] Local rendezvous is aborting with status: INVALID_ARGUMENT: Unknown image file format. One of JPEG, PNG, GIF, BMP required.\n",
      "2024-06-15 01:20:26.365825: W tensorflow/core/framework/local_rendezvous.cc:404] Local rendezvous is aborting with status: INVALID_ARGUMENT: Unknown image file format. One of JPEG, PNG, GIF, BMP required.\n",
      "2024-06-15 01:20:28.681466: W tensorflow/core/framework/local_rendezvous.cc:404] Local rendezvous is aborting with status: INVALID_ARGUMENT: Unknown image file format. One of JPEG, PNG, GIF, BMP required.\n",
      "2024-06-15 01:20:32.341620: W tensorflow/core/framework/local_rendezvous.cc:404] Local rendezvous is aborting with status: INVALID_ARGUMENT: Input is empty.\n",
      "2024-06-15 01:20:34.415620: W tensorflow/core/framework/local_rendezvous.cc:404] Local rendezvous is aborting with status: INVALID_ARGUMENT: Unknown image file format. One of JPEG, PNG, GIF, BMP required.\n",
      "2024-06-15 01:20:45.993852: W tensorflow/core/framework/local_rendezvous.cc:404] Local rendezvous is aborting with status: INVALID_ARGUMENT: Unknown image file format. One of JPEG, PNG, GIF, BMP required.\n",
      "2024-06-15 01:20:58.502674: W tensorflow/core/framework/local_rendezvous.cc:404] Local rendezvous is aborting with status: INVALID_ARGUMENT: Unknown image file format. One of JPEG, PNG, GIF, BMP required.\n",
      "2024-06-15 01:21:00.279822: W tensorflow/core/framework/local_rendezvous.cc:404] Local rendezvous is aborting with status: INVALID_ARGUMENT: Unknown image file format. One of JPEG, PNG, GIF, BMP required.\n",
      "2024-06-15 01:21:06.864447: W tensorflow/core/framework/local_rendezvous.cc:404] Local rendezvous is aborting with status: INVALID_ARGUMENT: Unknown image file format. One of JPEG, PNG, GIF, BMP required.\n",
      "2024-06-15 01:21:08.031213: W tensorflow/core/framework/local_rendezvous.cc:404] Local rendezvous is aborting with status: INVALID_ARGUMENT: Unknown image file format. One of JPEG, PNG, GIF, BMP required.\n",
      "2024-06-15 01:21:11.122917: W tensorflow/core/framework/local_rendezvous.cc:404] Local rendezvous is aborting with status: INVALID_ARGUMENT: Unknown image file format. One of JPEG, PNG, GIF, BMP required.\n",
      "2024-06-15 01:21:12.534931: W tensorflow/core/framework/local_rendezvous.cc:404] Local rendezvous is aborting with status: INVALID_ARGUMENT: Unknown image file format. One of JPEG, PNG, GIF, BMP required.\n",
      "Corrupt JPEG data: 21 extraneous bytes before marker 0xd9\n",
      "2024-06-15 01:21:24.736696: W tensorflow/core/framework/local_rendezvous.cc:404] Local rendezvous is aborting with status: INVALID_ARGUMENT: Unknown image file format. One of JPEG, PNG, GIF, BMP required.\n",
      "2024-06-15 01:21:27.287037: W tensorflow/core/framework/local_rendezvous.cc:404] Local rendezvous is aborting with status: INVALID_ARGUMENT: Unknown image file format. One of JPEG, PNG, GIF, BMP required.\n",
      "2024-06-15 01:21:27.540700: W tensorflow/core/framework/local_rendezvous.cc:404] Local rendezvous is aborting with status: INVALID_ARGUMENT: Unknown image file format. One of JPEG, PNG, GIF, BMP required.\n",
      "2024-06-15 01:21:28.506518: W tensorflow/core/framework/local_rendezvous.cc:404] Local rendezvous is aborting with status: INVALID_ARGUMENT: Unknown image file format. One of JPEG, PNG, GIF, BMP required.\n",
      "2024-06-15 01:21:33.881429: W tensorflow/core/framework/local_rendezvous.cc:404] Local rendezvous is aborting with status: INVALID_ARGUMENT: Unknown image file format. One of JPEG, PNG, GIF, BMP required.\n",
      "2024-06-15 01:21:37.171182: W tensorflow/core/framework/local_rendezvous.cc:404] Local rendezvous is aborting with status: INVALID_ARGUMENT: Unknown image file format. One of JPEG, PNG, GIF, BMP required.\n",
      "2024-06-15 01:21:40.044139: W tensorflow/core/framework/local_rendezvous.cc:404] Local rendezvous is aborting with status: INVALID_ARGUMENT: Unknown image file format. One of JPEG, PNG, GIF, BMP required.\n",
      "2024-06-15 01:21:40.064433: W tensorflow/core/framework/local_rendezvous.cc:404] Local rendezvous is aborting with status: INVALID_ARGUMENT: Unknown image file format. One of JPEG, PNG, GIF, BMP required.\n",
      "2024-06-15 01:21:50.561551: W tensorflow/core/framework/local_rendezvous.cc:404] Local rendezvous is aborting with status: INVALID_ARGUMENT: Unknown image file format. One of JPEG, PNG, GIF, BMP required.\n",
      "2024-06-15 01:21:52.387061: W tensorflow/core/framework/local_rendezvous.cc:404] Local rendezvous is aborting with status: INVALID_ARGUMENT: Unknown image file format. One of JPEG, PNG, GIF, BMP required.\n",
      "2024-06-15 01:21:56.633893: W tensorflow/core/framework/local_rendezvous.cc:404] Local rendezvous is aborting with status: INVALID_ARGUMENT: Unknown image file format. One of JPEG, PNG, GIF, BMP required.\n",
      "2024-06-15 01:21:59.329817: W tensorflow/core/framework/local_rendezvous.cc:404] Local rendezvous is aborting with status: INVALID_ARGUMENT: Unknown image file format. One of JPEG, PNG, GIF, BMP required.\n",
      "2024-06-15 01:22:05.061487: W tensorflow/core/framework/local_rendezvous.cc:404] Local rendezvous is aborting with status: INVALID_ARGUMENT: Unknown image file format. One of JPEG, PNG, GIF, BMP required.\n",
      "2024-06-15 01:22:09.030225: W tensorflow/core/framework/local_rendezvous.cc:404] Local rendezvous is aborting with status: INVALID_ARGUMENT: Unknown image file format. One of JPEG, PNG, GIF, BMP required.\n",
      "2024-06-15 01:22:16.197445: W tensorflow/core/framework/local_rendezvous.cc:404] Local rendezvous is aborting with status: INVALID_ARGUMENT: Unknown image file format. One of JPEG, PNG, GIF, BMP required.\n",
      "2024-06-15 01:22:16.724098: W tensorflow/core/framework/local_rendezvous.cc:404] Local rendezvous is aborting with status: INVALID_ARGUMENT: Unknown image file format. One of JPEG, PNG, GIF, BMP required.\n",
      "2024-06-15 01:22:25.831436: W tensorflow/core/framework/local_rendezvous.cc:404] Local rendezvous is aborting with status: INVALID_ARGUMENT: Unknown image file format. One of JPEG, PNG, GIF, BMP required.\n",
      "2024-06-15 01:22:25.850372: W tensorflow/core/framework/local_rendezvous.cc:404] Local rendezvous is aborting with status: INVALID_ARGUMENT: Unknown image file format. One of JPEG, PNG, GIF, BMP required.\n"
     ]
    },
    {
     "name": "stdout",
     "output_type": "stream",
     "text": [
      " done extracting\n"
     ]
    }
   ],
   "source": [
    "for i in range(x,y):\n",
    "  folder_path =  f\"Train Data/Dataset82/{i}\"\n",
    "  for filename2 in os.listdir(folder_path):\n",
    "    image_path = os.path.join(folder_path, filename2)\n",
    "    # print(image_path)\n",
    "    \n",
    "    df = pd.read_csv(file_path,low_memory=False)\n",
    "    \n",
    "    image = tf.io.read_file(image_path)\n",
    "    try:\n",
    "        image = tf.compat.v1.image.decode_jpeg(image)\n",
    "    except:\n",
    "        continue\n",
    "    image = tf.expand_dims(image, axis=0)\n",
    "    # Resize and pad the image to keep the aspect ratio and fit the expected size.\n",
    "    image = tf.image.resize_with_pad(image, 256, 256)\n",
    "    \n",
    "    # Initialize the TFLite interpreter\n",
    "    \n",
    "    interpreter = tf.lite.Interpreter(model_path=model_path)\n",
    "    interpreter.allocate_tensors()\n",
    "    \n",
    "    # TF Lite format expects tensor type of float32.\n",
    "    input_image = tf.cast(image, dtype=tf.uint8)\n",
    "    input_details = interpreter.get_input_details()\n",
    "    # print(input_details[0]['index'])\n",
    "    input_details[0]['dtype'] = np.float32\n",
    "    output_details = interpreter.get_output_details()\n",
    "    \n",
    "    try:\n",
    "        interpreter.set_tensor(input_details[0]['index'], input_image.numpy())\n",
    "    except:\n",
    "        continue\n",
    "    interpreter.invoke()\n",
    "    \n",
    "    # Output is a [1, 1, 17, 3] numpy array.\n",
    "    keypoints_with_scores = interpreter.get_tensor(output_details[0]['index'])\n",
    "    new_row = {'ImgPath': image_path,\n",
    "            \"cx00\" : keypoints_with_scores[0][0][0][0],\"cy00\" : keypoints_with_scores[0][0][0][1],\"cz00\" : keypoints_with_scores[0][0][0][2],\n",
    "            \"cx01\" : keypoints_with_scores[0][0][1][0],\"cy01\" : keypoints_with_scores[0][0][1][1],\"cz01\" : keypoints_with_scores[0][0][1][2],\n",
    "            \"cx02\" : keypoints_with_scores[0][0][2][0],\"cy02\" : keypoints_with_scores[0][0][2][1],\"cz02\" : keypoints_with_scores[0][0][2][2],\n",
    "            \"cx03\" : keypoints_with_scores[0][0][3][0],\"cy03\" : keypoints_with_scores[0][0][3][1],\"cz03\" : keypoints_with_scores[0][0][3][2],\n",
    "            \"cx04\" : keypoints_with_scores[0][0][4][0],\"cy04\" : keypoints_with_scores[0][0][4][1],\"cz04\" : keypoints_with_scores[0][0][4][2],\n",
    "            \"cx05\" : keypoints_with_scores[0][0][5][0],\"cy05\" : keypoints_with_scores[0][0][5][1],\"cz05\" : keypoints_with_scores[0][0][5][2],\n",
    "            \"cx06\" : keypoints_with_scores[0][0][6][0],\"cy06\" : keypoints_with_scores[0][0][6][1],\"cz06\" : keypoints_with_scores[0][0][6][2],\n",
    "            \"cx07\" : keypoints_with_scores[0][0][7][0],\"cy07\" : keypoints_with_scores[0][0][7][1],\"cz07\" : keypoints_with_scores[0][0][7][2],\n",
    "            \"cx08\" : keypoints_with_scores[0][0][8][0],\"cy08\" : keypoints_with_scores[0][0][8][1],\"cz08\" : keypoints_with_scores[0][0][8][2],\n",
    "            \"cx09\" : keypoints_with_scores[0][0][9][0],\"cy09\" : keypoints_with_scores[0][0][9][1],\"cz09\" : keypoints_with_scores[0][0][9][2],\n",
    "            \"cx10\" : keypoints_with_scores[0][0][10][0],\"cy10\" : keypoints_with_scores[0][0][10][1],\"cz10\" : keypoints_with_scores[0][0][10][2],\n",
    "            \"cx11\" : keypoints_with_scores[0][0][11][0],\"cy11\" : keypoints_with_scores[0][0][11][1],\"cz11\" : keypoints_with_scores[0][0][11][2],\n",
    "            \"cx12\" : keypoints_with_scores[0][0][12][0],\"cy12\" : keypoints_with_scores[0][0][12][1],\"cz12\" : keypoints_with_scores[0][0][12][2],\n",
    "            \"cx13\" : keypoints_with_scores[0][0][13][0],\"cy13\" : keypoints_with_scores[0][0][13][1],\"cz13\" : keypoints_with_scores[0][0][13][2],\n",
    "            \"cx14\" : keypoints_with_scores[0][0][14][0],\"cy14\" : keypoints_with_scores[0][0][14][1],\"cz14\" : keypoints_with_scores[0][0][14][2],\n",
    "            \"cx15\" : keypoints_with_scores[0][0][15][0],\"cy15\" : keypoints_with_scores[0][0][15][1],\"cz15\" : keypoints_with_scores[0][0][15][2],\n",
    "            \"cx16\" : keypoints_with_scores[0][0][16][0],\"cy16\" : keypoints_with_scores[0][0][16][1],\"cz16\" : keypoints_with_scores[0][0][16][2],\n",
    "            'label' : image_path.split(\"/\")[-2]}\n",
    "    df = df.append(new_row, ignore_index=True)\n",
    "    df.to_csv(file_path,index=False)\n",
    "print(\" done extracting\")"
   ]
  },
  {
   "cell_type": "code",
   "execution_count": 244,
   "metadata": {},
   "outputs": [
    {
     "name": "stdout",
     "output_type": "stream",
     "text": [
      "Python version: 3.10.13 (main, Sep 11 2023, 08:24:56) [Clang 14.0.6 ]\n"
     ]
    }
   ],
   "source": [
    "import sys\n",
    "\n",
    "print(\"Python version:\", sys.version)"
   ]
  },
  {
   "cell_type": "code",
   "execution_count": null,
   "metadata": {
    "jupyter": {
     "source_hidden": true
    }
   },
   "outputs": [],
   "source": []
  },
  {
   "cell_type": "code",
   "execution_count": null,
   "metadata": {
    "jupyter": {
     "source_hidden": true
    }
   },
   "outputs": [],
   "source": []
  },
  {
   "cell_type": "code",
   "execution_count": null,
   "metadata": {
    "jupyter": {
     "source_hidden": true
    }
   },
   "outputs": [],
   "source": []
  },
  {
   "cell_type": "code",
   "execution_count": null,
   "metadata": {},
   "outputs": [],
   "source": []
  },
  {
   "cell_type": "code",
   "execution_count": null,
   "metadata": {},
   "outputs": [],
   "source": []
  },
  {
   "cell_type": "code",
   "execution_count": null,
   "metadata": {},
   "outputs": [],
   "source": []
  }
 ],
 "metadata": {
  "colab": {
   "provenance": []
  },
  "kernelspec": {
   "display_name": "Python 3 (ipykernel)",
   "language": "python",
   "name": "python3"
  },
  "language_info": {
   "codemirror_mode": {
    "name": "ipython",
    "version": 3
   },
   "file_extension": ".py",
   "mimetype": "text/x-python",
   "name": "python",
   "nbconvert_exporter": "python",
   "pygments_lexer": "ipython3",
   "version": "3.10.13"
  }
 },
 "nbformat": 4,
 "nbformat_minor": 4
}
